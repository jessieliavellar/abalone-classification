{
 "cells": [
  {
   "cell_type": "markdown",
   "id": "b7d79047",
   "metadata": {},
   "source": [
    "# Abalone: Uma comparação entre modelos de classificação\n",
    "Jessieli Paiva Avellar"
   ]
  },
  {
   "cell_type": "markdown",
   "id": "041ebdae",
   "metadata": {},
   "source": [
    "## Resultados"
   ]
  },
  {
   "cell_type": "markdown",
   "id": "0a80ae56",
   "metadata": {},
   "source": [
    "<div class=\"alert alert-block alert-success\">\n",
    "Foi obtido aproximadamente <b>81.91% de acerto</b>  entre os abalones identificados como maduros ao aplicar o modelo SVC com todas as informações disponíveis.\n",
    "</div>"
   ]
  },
  {
   "cell_type": "markdown",
   "id": "2b786672",
   "metadata": {
    "toc": true
   },
   "source": [
    "<h1>Table of Contents<span class=\"tocSkip\"></span></h1>\n",
    "<div class=\"toc\"><ul class=\"toc-item\"><li><span><a href=\"#Resultados\" data-toc-modified-id=\"Resultados-1\"><span class=\"toc-item-num\">1&nbsp;&nbsp;</span>Resultados</a></span></li><li><span><a href=\"#Introdução-+-Metodologia\" data-toc-modified-id=\"Introdução-+-Metodologia-2\"><span class=\"toc-item-num\">2&nbsp;&nbsp;</span>Introdução + Metodologia</a></span><ul class=\"toc-item\"><li><span><a href=\"#Business-comprehension\" data-toc-modified-id=\"Business-comprehension-2.1\"><span class=\"toc-item-num\">2.1&nbsp;&nbsp;</span>Business comprehension</a></span></li><li><span><a href=\"#Sobre-os-Dados\" data-toc-modified-id=\"Sobre-os-Dados-2.2\"><span class=\"toc-item-num\">2.2&nbsp;&nbsp;</span>Sobre os Dados</a></span></li><li><span><a href=\"#Escolhas-metodológicas\" data-toc-modified-id=\"Escolhas-metodológicas-2.3\"><span class=\"toc-item-num\">2.3&nbsp;&nbsp;</span>Escolhas metodológicas</a></span></li></ul></li><li><span><a href=\"#Pré-Processamento\" data-toc-modified-id=\"Pré-Processamento-3\"><span class=\"toc-item-num\">3&nbsp;&nbsp;</span>Pré-Processamento</a></span><ul class=\"toc-item\"><li><span><a href=\"#Análise-Exploratória\" data-toc-modified-id=\"Análise-Exploratória-3.1\"><span class=\"toc-item-num\">3.1&nbsp;&nbsp;</span>Análise Exploratória</a></span></li><li><span><a href=\"#Feature-Selection\" data-toc-modified-id=\"Feature-Selection-3.2\"><span class=\"toc-item-num\">3.2&nbsp;&nbsp;</span>Feature Selection</a></span><ul class=\"toc-item\"><li><span><a href=\"#Feature-Importance\" data-toc-modified-id=\"Feature-Importance-3.2.1\"><span class=\"toc-item-num\">3.2.1&nbsp;&nbsp;</span>Feature Importance</a></span></li><li><span><a href=\"#Regressão-Stepwise\" data-toc-modified-id=\"Regressão-Stepwise-3.2.2\"><span class=\"toc-item-num\">3.2.2&nbsp;&nbsp;</span>Regressão Stepwise</a></span></li><li><span><a href=\"#Permutation-Importance\" data-toc-modified-id=\"Permutation-Importance-3.2.3\"><span class=\"toc-item-num\">3.2.3&nbsp;&nbsp;</span>Permutation Importance</a></span></li><li><span><a href=\"#Comparando-features-selecionadas\" data-toc-modified-id=\"Comparando-features-selecionadas-3.2.4\"><span class=\"toc-item-num\">3.2.4&nbsp;&nbsp;</span>Comparando features selecionadas</a></span></li></ul></li></ul></li><li><span><a href=\"#Aplicando-Modelos\" data-toc-modified-id=\"Aplicando-Modelos-4\"><span class=\"toc-item-num\">4&nbsp;&nbsp;</span>Aplicando Modelos</a></span><ul class=\"toc-item\"><li><span><a href=\"#Regressão-Logística\" data-toc-modified-id=\"Regressão-Logística-4.1\"><span class=\"toc-item-num\">4.1&nbsp;&nbsp;</span>Regressão Logística</a></span></li><li><span><a href=\"#Árvore-de-Decisão\" data-toc-modified-id=\"Árvore-de-Decisão-4.2\"><span class=\"toc-item-num\">4.2&nbsp;&nbsp;</span>Árvore de Decisão</a></span></li><li><span><a href=\"#K-Nearest-Neighbors-(KNN)\" data-toc-modified-id=\"K-Nearest-Neighbors-(KNN)-4.3\"><span class=\"toc-item-num\">4.3&nbsp;&nbsp;</span>K-Nearest Neighbors (KNN)</a></span></li><li><span><a href=\"#Naive-Bayes\" data-toc-modified-id=\"Naive-Bayes-4.4\"><span class=\"toc-item-num\">4.4&nbsp;&nbsp;</span>Naive Bayes</a></span></li><li><span><a href=\"#Random-Forest\" data-toc-modified-id=\"Random-Forest-4.5\"><span class=\"toc-item-num\">4.5&nbsp;&nbsp;</span>Random Forest</a></span></li><li><span><a href=\"#AdaBoost\" data-toc-modified-id=\"AdaBoost-4.6\"><span class=\"toc-item-num\">4.6&nbsp;&nbsp;</span>AdaBoost</a></span></li><li><span><a href=\"#Support-vector-machine-(SVM)\" data-toc-modified-id=\"Support-vector-machine-(SVM)-4.7\"><span class=\"toc-item-num\">4.7&nbsp;&nbsp;</span>Support vector machine (SVM)</a></span></li></ul></li><li><span><a href=\"#Comparando-modelos\" data-toc-modified-id=\"Comparando-modelos-5\"><span class=\"toc-item-num\">5&nbsp;&nbsp;</span>Comparando modelos</a></span></li><li><span><a href=\"#Simulação-de-performance-do-modelo-final\" data-toc-modified-id=\"Simulação-de-performance-do-modelo-final-6\"><span class=\"toc-item-num\">6&nbsp;&nbsp;</span>Simulação de performance do modelo final</a></span></li></ul></div>"
   ]
  },
  {
   "cell_type": "markdown",
   "id": "39e8dd65",
   "metadata": {},
   "source": [
    "## Introdução + Metodologia"
   ]
  },
  {
   "cell_type": "markdown",
   "id": "112ee4ce",
   "metadata": {},
   "source": [
    "### Business comprehension"
   ]
  },
  {
   "cell_type": "markdown",
   "id": "68b9108e",
   "metadata": {},
   "source": [
    "Nessa análise, foi feita a suposição de que a correta identificação entre um abalone jovem (<= 9 anéis) ou maduro (> 9 anéis) seria essencial para o negócio em questão, sendo desejada apenas a captura dos abalones maduros. Uma incorreta captura de abalones jovens poderia afetar negativamente o rendimento das caputura em um ano posterior, devido a uma diminuição da população na área."
   ]
  },
  {
   "cell_type": "markdown",
   "id": "f34d486b",
   "metadata": {},
   "source": [
    "### Sobre os Dados\n",
    "\n",
    "O dataset utilizado foi [\"Abalone Data Set\"](https://archive.ics.uci.edu/ml/datasets/abalone). Esses dados foram originalmente obtidos do artigo científico:  \n",
    "> Warwick J Nash, Tracy L Sellers, Simon R Talbot, Andrew J Cawthorn and Wes B Ford (1994)\n",
    "**\"The Population Biology of Abalone (_Haliotis_ species) in Tasmania. I. Blacklip Abalone (_H. rubra_) from the North Coast and Islands of Bass Strait\"**,\n",
    "Sea Fisheries Division, Technical Report No. 48 (ISSN 1034-3288)   \n",
    "\n",
    "Dicionário de dados:   \n",
    "\n",
    "\n",
    "\n",
    "Nome da coluna|Un. medição|Tipo|Descrição|\n",
    ":-------------|:-----------------|:-----------------|:-----------------|\n",
    "**Sex**|-|categórico|M (masculino), F (feminino), e I (infantil)|\n",
    "**Length**|mm|contínuo|Medição da concha mais longa|\n",
    "**Diameter**|mm|contínuo|Diâmetro da concha|\n",
    "**Height**|mm|contínuo|Altura da concha|\n",
    "**Whole weight**|g|contínuo|Peso da concha|\n",
    "**Shucked weight**|g|contínuo|Peso da carne presente na concha|\n",
    "**Viscera weight**|g|contínuo|Peso do intestino (após sangramento)|\n",
    "**Shell weight**|g|contínuo|Peso da concha depois de seca|\n",
    "**Rings**|-|discreto|Nº de anéis - a cada 1.5 dá idade em anos|\n",
    "\n"
   ]
  },
  {
   "cell_type": "markdown",
   "id": "9ecef3be",
   "metadata": {},
   "source": [
    "### Escolhas metodológicas \n",
    "\n",
    "- Foi realizada o método <ins>**HoldOut**</ins>  \n",
    "    - Conjunto de <ins>treino</ins>: usado para treinar os modelos de ML\n",
    "    - Conjunto de <ins>validação</ins>: usado para avaliar a peformance dos modelos de ML\n",
    "    - Conjunto de <ins>teste</ins>: usado para simular os dados de um novo ano de medições, ou seja, dados não utilizados para treinar ou avaliar os modelos e observar a sua performance\n",
    "<br><br>\n",
    "- A métrica utilizada para avaliação e otimização de modelo foi a <ins>**Precisão**</ins><br>\n",
    "Devido à necessidade de maximizar a proporção de abalones verdadeiramente maduros (target = 1) dentre os identificados como tal.\n",
    "<br><br>\n",
    "- Foram utilizados 3 métodos de seleção de features: <ins>Feature Importance</ins>, <ins>Regressão Stepwise</ins> e <ins>Permutation Importance</ins> <br>\n",
    "<br>\n",
    "- Na otimização de parâmetros de cada modelo, foi utilizado o método <ins>**RandomSearch**</ins><br>"
   ]
  },
  {
   "cell_type": "markdown",
   "id": "d369f7c5",
   "metadata": {},
   "source": [
    "## Pré-Processamento"
   ]
  },
  {
   "cell_type": "code",
   "execution_count": 85,
   "id": "e5cf764b",
   "metadata": {},
   "outputs": [],
   "source": [
    "# Importação de bibliotecas\n",
    "import numpy as np\n",
    "import pandas as pd\n",
    "import matplotlib.pyplot as plt\n",
    "import seaborn as sns\n",
    "\n",
    "# Importando pré-processamento\n",
    "from sklearn.pipeline import Pipeline\n",
    "from sklearn.preprocessing import StandardScaler, OneHotEncoder \n",
    "\n",
    "# Importação de modelos\n",
    "from sklearn.model_selection import train_test_split, StratifiedKFold, cross_val_score\n",
    "from sklearn.model_selection import RandomizedSearchCV, GridSearchCV\n",
    "\n",
    "from sklearn.linear_model import Lasso\n",
    "from sklearn.feature_selection import SequentialFeatureSelector\n",
    "from sklearn.inspection import permutation_importance\n",
    "\n",
    "from sklearn.linear_model import LogisticRegression\n",
    "from sklearn.tree import DecisionTreeClassifier\n",
    "from sklearn.neighbors import KNeighborsClassifier\n",
    "from sklearn.naive_bayes import GaussianNB\n",
    "from sklearn.ensemble import RandomForestClassifier\n",
    "from sklearn.ensemble import AdaBoostClassifier\n",
    "from sklearn.svm import SVC\n",
    "\n",
    "# Importação de métricas\n",
    "from sklearn.metrics import confusion_matrix, ConfusionMatrixDisplay\n",
    "from sklearn.metrics import SCORERS\n",
    "from sklearn.metrics import accuracy_score, precision_score, recall_score, f1_score\n",
    "\n",
    "from IPython.display import Markdown, display\n",
    "def printmd(string):\n",
    "    '''Função para printar no Jupyter com a formatação markdown'''\n",
    "    display(Markdown(string))"
   ]
  },
  {
   "cell_type": "code",
   "execution_count": 86,
   "id": "8260bd3f",
   "metadata": {},
   "outputs": [],
   "source": [
    "# Carregando o arquivo\n",
    "df = pd.read_csv(\"abalone.data\", sep=\",\",\n",
    "                 names=['Sex', 'Length', 'Diameter', 'Height', 'Whole weight',\n",
    "                        'Shucked weight', 'Viscera weight', 'Shell weight', 'Rings'])"
   ]
  },
  {
   "cell_type": "code",
   "execution_count": 87,
   "id": "2b566cd7",
   "metadata": {},
   "outputs": [],
   "source": [
    "# Adicionando a coluna de Target ( Rings_class   rings <= 9 :::: 0   | rings > 9 :::: 1)\n",
    "df['Target'] = np.where(df['Rings']<= 9, 0, 1)"
   ]
  },
  {
   "cell_type": "code",
   "execution_count": 88,
   "id": "bfb55e3d",
   "metadata": {},
   "outputs": [],
   "source": [
    "# Separando o arquivo em X e y\n",
    "X = df[['Sex', 'Length', 'Diameter', 'Height', 'Whole weight', 'Shucked weight', \n",
    "        'Viscera weight', 'Shell weight', 'Rings']]\n",
    "y = df['Target']"
   ]
  },
  {
   "cell_type": "code",
   "execution_count": 89,
   "id": "09d3513c",
   "metadata": {},
   "outputs": [],
   "source": [
    "# Separando treino e teste\n",
    "X_train, X_test, y_train, y_test = train_test_split(X, y,\n",
    "                                                    test_size=0.3, \n",
    "                                                    shuffle=True, \n",
    "                                                    stratify=X['Sex'],\n",
    "                                                    random_state=42)\n",
    "\n",
    "# Separando treino e validação\n",
    "X_train, X_val, y_train, y_val = train_test_split(X_train, y_train,\n",
    "                                                  test_size=0.3, \n",
    "                                                  shuffle=True, \n",
    "                                                  stratify=X_train['Sex'],\n",
    "                                                  random_state=42)\n"
   ]
  },
  {
   "cell_type": "markdown",
   "id": "dbbb8e01",
   "metadata": {},
   "source": [
    "### Análise Exploratória"
   ]
  },
  {
   "cell_type": "code",
   "execution_count": 90,
   "id": "3106ba78",
   "metadata": {},
   "outputs": [
    {
     "data": {
      "text/html": [
       "<div>\n",
       "<style scoped>\n",
       "    .dataframe tbody tr th:only-of-type {\n",
       "        vertical-align: middle;\n",
       "    }\n",
       "\n",
       "    .dataframe tbody tr th {\n",
       "        vertical-align: top;\n",
       "    }\n",
       "\n",
       "    .dataframe thead th {\n",
       "        text-align: right;\n",
       "    }\n",
       "</style>\n",
       "<table border=\"1\" class=\"dataframe\">\n",
       "  <thead>\n",
       "    <tr style=\"text-align: right;\">\n",
       "      <th></th>\n",
       "      <th>Sex</th>\n",
       "      <th>Length</th>\n",
       "      <th>Diameter</th>\n",
       "      <th>Height</th>\n",
       "      <th>Whole weight</th>\n",
       "      <th>Shucked weight</th>\n",
       "      <th>Viscera weight</th>\n",
       "      <th>Shell weight</th>\n",
       "      <th>Rings</th>\n",
       "    </tr>\n",
       "  </thead>\n",
       "  <tbody>\n",
       "    <tr>\n",
       "      <th>423</th>\n",
       "      <td>I</td>\n",
       "      <td>0.290</td>\n",
       "      <td>0.225</td>\n",
       "      <td>0.070</td>\n",
       "      <td>0.1010</td>\n",
       "      <td>0.0360</td>\n",
       "      <td>0.0235</td>\n",
       "      <td>0.0350</td>\n",
       "      <td>8</td>\n",
       "    </tr>\n",
       "    <tr>\n",
       "      <th>2889</th>\n",
       "      <td>I</td>\n",
       "      <td>0.520</td>\n",
       "      <td>0.400</td>\n",
       "      <td>0.110</td>\n",
       "      <td>0.5970</td>\n",
       "      <td>0.2935</td>\n",
       "      <td>0.1155</td>\n",
       "      <td>0.1600</td>\n",
       "      <td>8</td>\n",
       "    </tr>\n",
       "    <tr>\n",
       "      <th>914</th>\n",
       "      <td>I</td>\n",
       "      <td>0.370</td>\n",
       "      <td>0.280</td>\n",
       "      <td>0.095</td>\n",
       "      <td>0.2865</td>\n",
       "      <td>0.1505</td>\n",
       "      <td>0.0690</td>\n",
       "      <td>0.0795</td>\n",
       "      <td>7</td>\n",
       "    </tr>\n",
       "    <tr>\n",
       "      <th>2612</th>\n",
       "      <td>F</td>\n",
       "      <td>0.635</td>\n",
       "      <td>0.495</td>\n",
       "      <td>0.180</td>\n",
       "      <td>1.5960</td>\n",
       "      <td>0.6170</td>\n",
       "      <td>0.3170</td>\n",
       "      <td>0.3700</td>\n",
       "      <td>11</td>\n",
       "    </tr>\n",
       "    <tr>\n",
       "      <th>368</th>\n",
       "      <td>M</td>\n",
       "      <td>0.630</td>\n",
       "      <td>0.490</td>\n",
       "      <td>0.180</td>\n",
       "      <td>1.1300</td>\n",
       "      <td>0.4580</td>\n",
       "      <td>0.2765</td>\n",
       "      <td>0.3150</td>\n",
       "      <td>12</td>\n",
       "    </tr>\n",
       "  </tbody>\n",
       "</table>\n",
       "</div>"
      ],
      "text/plain": [
       "     Sex  Length  Diameter  Height  Whole weight  Shucked weight  \\\n",
       "423    I   0.290     0.225   0.070        0.1010          0.0360   \n",
       "2889   I   0.520     0.400   0.110        0.5970          0.2935   \n",
       "914    I   0.370     0.280   0.095        0.2865          0.1505   \n",
       "2612   F   0.635     0.495   0.180        1.5960          0.6170   \n",
       "368    M   0.630     0.490   0.180        1.1300          0.4580   \n",
       "\n",
       "      Viscera weight  Shell weight  Rings  \n",
       "423           0.0235        0.0350      8  \n",
       "2889          0.1155        0.1600      8  \n",
       "914           0.0690        0.0795      7  \n",
       "2612          0.3170        0.3700     11  \n",
       "368           0.2765        0.3150     12  "
      ]
     },
     "execution_count": 90,
     "metadata": {},
     "output_type": "execute_result"
    }
   ],
   "source": [
    "# Observando os primeiros dados\n",
    "X_train.head()"
   ]
  },
  {
   "cell_type": "code",
   "execution_count": 91,
   "id": "7e776980",
   "metadata": {
    "scrolled": true
   },
   "outputs": [
    {
     "data": {
      "text/html": [
       "<div>\n",
       "<style scoped>\n",
       "    .dataframe tbody tr th:only-of-type {\n",
       "        vertical-align: middle;\n",
       "    }\n",
       "\n",
       "    .dataframe tbody tr th {\n",
       "        vertical-align: top;\n",
       "    }\n",
       "\n",
       "    .dataframe thead th {\n",
       "        text-align: right;\n",
       "    }\n",
       "</style>\n",
       "<table border=\"1\" class=\"dataframe\">\n",
       "  <thead>\n",
       "    <tr style=\"text-align: right;\">\n",
       "      <th></th>\n",
       "      <th>Length</th>\n",
       "      <th>Diameter</th>\n",
       "      <th>Height</th>\n",
       "      <th>Whole weight</th>\n",
       "      <th>Shucked weight</th>\n",
       "      <th>Viscera weight</th>\n",
       "      <th>Shell weight</th>\n",
       "      <th>Rings</th>\n",
       "    </tr>\n",
       "  </thead>\n",
       "  <tbody>\n",
       "    <tr>\n",
       "      <th>count</th>\n",
       "      <td>2046.000000</td>\n",
       "      <td>2046.000000</td>\n",
       "      <td>2046.000000</td>\n",
       "      <td>2046.000000</td>\n",
       "      <td>2046.000000</td>\n",
       "      <td>2046.000000</td>\n",
       "      <td>2046.000000</td>\n",
       "      <td>2046.000000</td>\n",
       "    </tr>\n",
       "    <tr>\n",
       "      <th>mean</th>\n",
       "      <td>0.521816</td>\n",
       "      <td>0.405872</td>\n",
       "      <td>0.138996</td>\n",
       "      <td>0.819646</td>\n",
       "      <td>0.354616</td>\n",
       "      <td>0.177680</td>\n",
       "      <td>0.237108</td>\n",
       "      <td>9.963832</td>\n",
       "    </tr>\n",
       "    <tr>\n",
       "      <th>std</th>\n",
       "      <td>0.120739</td>\n",
       "      <td>0.099699</td>\n",
       "      <td>0.044165</td>\n",
       "      <td>0.494773</td>\n",
       "      <td>0.223159</td>\n",
       "      <td>0.109029</td>\n",
       "      <td>0.141327</td>\n",
       "      <td>3.226974</td>\n",
       "    </tr>\n",
       "    <tr>\n",
       "      <th>min</th>\n",
       "      <td>0.130000</td>\n",
       "      <td>0.100000</td>\n",
       "      <td>0.000000</td>\n",
       "      <td>0.013000</td>\n",
       "      <td>0.004500</td>\n",
       "      <td>0.000500</td>\n",
       "      <td>0.004000</td>\n",
       "      <td>2.000000</td>\n",
       "    </tr>\n",
       "    <tr>\n",
       "      <th>25%</th>\n",
       "      <td>0.445000</td>\n",
       "      <td>0.345000</td>\n",
       "      <td>0.115000</td>\n",
       "      <td>0.429750</td>\n",
       "      <td>0.180125</td>\n",
       "      <td>0.090250</td>\n",
       "      <td>0.125000</td>\n",
       "      <td>8.000000</td>\n",
       "    </tr>\n",
       "    <tr>\n",
       "      <th>50%</th>\n",
       "      <td>0.540000</td>\n",
       "      <td>0.420000</td>\n",
       "      <td>0.140000</td>\n",
       "      <td>0.786500</td>\n",
       "      <td>0.328250</td>\n",
       "      <td>0.166000</td>\n",
       "      <td>0.226000</td>\n",
       "      <td>10.000000</td>\n",
       "    </tr>\n",
       "    <tr>\n",
       "      <th>75%</th>\n",
       "      <td>0.615000</td>\n",
       "      <td>0.480000</td>\n",
       "      <td>0.165000</td>\n",
       "      <td>1.143125</td>\n",
       "      <td>0.494250</td>\n",
       "      <td>0.249500</td>\n",
       "      <td>0.330000</td>\n",
       "      <td>11.000000</td>\n",
       "    </tr>\n",
       "    <tr>\n",
       "      <th>max</th>\n",
       "      <td>0.800000</td>\n",
       "      <td>0.630000</td>\n",
       "      <td>1.130000</td>\n",
       "      <td>2.825500</td>\n",
       "      <td>1.488000</td>\n",
       "      <td>0.760000</td>\n",
       "      <td>1.005000</td>\n",
       "      <td>27.000000</td>\n",
       "    </tr>\n",
       "  </tbody>\n",
       "</table>\n",
       "</div>"
      ],
      "text/plain": [
       "            Length     Diameter       Height  Whole weight  Shucked weight  \\\n",
       "count  2046.000000  2046.000000  2046.000000   2046.000000     2046.000000   \n",
       "mean      0.521816     0.405872     0.138996      0.819646        0.354616   \n",
       "std       0.120739     0.099699     0.044165      0.494773        0.223159   \n",
       "min       0.130000     0.100000     0.000000      0.013000        0.004500   \n",
       "25%       0.445000     0.345000     0.115000      0.429750        0.180125   \n",
       "50%       0.540000     0.420000     0.140000      0.786500        0.328250   \n",
       "75%       0.615000     0.480000     0.165000      1.143125        0.494250   \n",
       "max       0.800000     0.630000     1.130000      2.825500        1.488000   \n",
       "\n",
       "       Viscera weight  Shell weight        Rings  \n",
       "count     2046.000000   2046.000000  2046.000000  \n",
       "mean         0.177680      0.237108     9.963832  \n",
       "std          0.109029      0.141327     3.226974  \n",
       "min          0.000500      0.004000     2.000000  \n",
       "25%          0.090250      0.125000     8.000000  \n",
       "50%          0.166000      0.226000    10.000000  \n",
       "75%          0.249500      0.330000    11.000000  \n",
       "max          0.760000      1.005000    27.000000  "
      ]
     },
     "execution_count": 91,
     "metadata": {},
     "output_type": "execute_result"
    }
   ],
   "source": [
    "# Principais características dos dados de treino\n",
    "X_train.describe()"
   ]
  },
  {
   "cell_type": "markdown",
   "id": "b32e88bf",
   "metadata": {},
   "source": [
    "**Análise de outliers**"
   ]
  },
  {
   "cell_type": "code",
   "execution_count": 92,
   "id": "dbc1f054",
   "metadata": {},
   "outputs": [
    {
     "data": {
      "image/png": "[encoded data removed]",
      "text/plain": [
       "<Figure size 1080x1296 with 7 Axes>"
      ]
     },
     "metadata": {
      "needs_background": "light"
     },
     "output_type": "display_data"
    }
   ],
   "source": [
    "# Boxplot das variáveis contínuas\n",
    "plt.figure(figsize=(15, 18))\n",
    "var_contin = ['Length', 'Diameter', 'Height', 'Whole weight', 'Shucked weight', \n",
    "              'Viscera weight', 'Shell weight']\n",
    "\n",
    "for i in range(0,len(X_train[var_contin].columns)):\n",
    "    plt.subplot(4,7, i+1)\n",
    "    plt.boxplot(X_train[X_train[var_contin].columns[i]], autorange=True)\n",
    "    plt.title(X_train[var_contin].columns[i], fontdict= {'fontsize': 15 ,'fontweight': 5, 'color':'000000'})\n",
    "    plt.AutoLocator.default_params\n",
    "plt.show()\n",
    "\n",
    "# rever -- circlular os outliers piores"
   ]
  },
  {
   "cell_type": "markdown",
   "id": "14ea3a41",
   "metadata": {},
   "source": [
    "É possível perceber a alta presença de outliers e alguns que são especialmente destoante do restante conjunto de dados de treino, como é possível ver em especial na feature `Height` que possui um único dados > 1. Esses dados são visualizados a seguir:"
   ]
  },
  {
   "cell_type": "code",
   "execution_count": 93,
   "id": "50a5647f",
   "metadata": {},
   "outputs": [
    {
     "data": {
      "text/html": [
       "<div>\n",
       "<style scoped>\n",
       "    .dataframe tbody tr th:only-of-type {\n",
       "        vertical-align: middle;\n",
       "    }\n",
       "\n",
       "    .dataframe tbody tr th {\n",
       "        vertical-align: top;\n",
       "    }\n",
       "\n",
       "    .dataframe thead th {\n",
       "        text-align: right;\n",
       "    }\n",
       "</style>\n",
       "<table border=\"1\" class=\"dataframe\">\n",
       "  <thead>\n",
       "    <tr style=\"text-align: right;\">\n",
       "      <th></th>\n",
       "      <th>Sex</th>\n",
       "      <th>Length</th>\n",
       "      <th>Diameter</th>\n",
       "      <th>Height</th>\n",
       "      <th>Whole weight</th>\n",
       "      <th>Shucked weight</th>\n",
       "      <th>Viscera weight</th>\n",
       "      <th>Shell weight</th>\n",
       "      <th>Rings</th>\n",
       "    </tr>\n",
       "  </thead>\n",
       "  <tbody>\n",
       "    <tr>\n",
       "      <th>2051</th>\n",
       "      <td>F</td>\n",
       "      <td>0.455</td>\n",
       "      <td>0.355</td>\n",
       "      <td>1.13</td>\n",
       "      <td>0.594</td>\n",
       "      <td>0.332</td>\n",
       "      <td>0.116</td>\n",
       "      <td>0.1335</td>\n",
       "      <td>8</td>\n",
       "    </tr>\n",
       "  </tbody>\n",
       "</table>\n",
       "</div>"
      ],
      "text/plain": [
       "     Sex  Length  Diameter  Height  Whole weight  Shucked weight  \\\n",
       "2051   F   0.455     0.355    1.13         0.594           0.332   \n",
       "\n",
       "      Viscera weight  Shell weight  Rings  \n",
       "2051           0.116        0.1335      8  "
      ]
     },
     "execution_count": 93,
     "metadata": {},
     "output_type": "execute_result"
    }
   ],
   "source": [
    "X_train[X_train['Height'] > 1]"
   ]
  },
  {
   "cell_type": "code",
   "execution_count": 94,
   "id": "a70a8515",
   "metadata": {},
   "outputs": [
    {
     "data": {
      "text/html": [
       "<div>\n",
       "<style scoped>\n",
       "    .dataframe tbody tr th:only-of-type {\n",
       "        vertical-align: middle;\n",
       "    }\n",
       "\n",
       "    .dataframe tbody tr th {\n",
       "        vertical-align: top;\n",
       "    }\n",
       "\n",
       "    .dataframe thead th {\n",
       "        text-align: right;\n",
       "    }\n",
       "</style>\n",
       "<table border=\"1\" class=\"dataframe\">\n",
       "  <thead>\n",
       "    <tr style=\"text-align: right;\">\n",
       "      <th></th>\n",
       "      <th>Sex</th>\n",
       "      <th>Length</th>\n",
       "      <th>Diameter</th>\n",
       "      <th>Height</th>\n",
       "      <th>Whole weight</th>\n",
       "      <th>Shucked weight</th>\n",
       "      <th>Viscera weight</th>\n",
       "      <th>Shell weight</th>\n",
       "      <th>Rings</th>\n",
       "    </tr>\n",
       "  </thead>\n",
       "  <tbody>\n",
       "    <tr>\n",
       "      <th>1209</th>\n",
       "      <td>F</td>\n",
       "      <td>0.78</td>\n",
       "      <td>0.63</td>\n",
       "      <td>0.215</td>\n",
       "      <td>2.657</td>\n",
       "      <td>1.488</td>\n",
       "      <td>0.4985</td>\n",
       "      <td>0.586</td>\n",
       "      <td>11</td>\n",
       "    </tr>\n",
       "  </tbody>\n",
       "</table>\n",
       "</div>"
      ],
      "text/plain": [
       "     Sex  Length  Diameter  Height  Whole weight  Shucked weight  \\\n",
       "1209   F    0.78      0.63   0.215         2.657           1.488   \n",
       "\n",
       "      Viscera weight  Shell weight  Rings  \n",
       "1209          0.4985         0.586     11  "
      ]
     },
     "execution_count": 94,
     "metadata": {},
     "output_type": "execute_result"
    }
   ],
   "source": [
    "X_train[X_train['Shucked weight'] > 1.35]"
   ]
  },
  {
   "cell_type": "code",
   "execution_count": 95,
   "id": "da92e7e5",
   "metadata": {},
   "outputs": [
    {
     "data": {
      "text/html": [
       "<div>\n",
       "<style scoped>\n",
       "    .dataframe tbody tr th:only-of-type {\n",
       "        vertical-align: middle;\n",
       "    }\n",
       "\n",
       "    .dataframe tbody tr th {\n",
       "        vertical-align: top;\n",
       "    }\n",
       "\n",
       "    .dataframe thead th {\n",
       "        text-align: right;\n",
       "    }\n",
       "</style>\n",
       "<table border=\"1\" class=\"dataframe\">\n",
       "  <thead>\n",
       "    <tr style=\"text-align: right;\">\n",
       "      <th></th>\n",
       "      <th>Sex</th>\n",
       "      <th>Length</th>\n",
       "      <th>Diameter</th>\n",
       "      <th>Height</th>\n",
       "      <th>Whole weight</th>\n",
       "      <th>Shucked weight</th>\n",
       "      <th>Viscera weight</th>\n",
       "      <th>Shell weight</th>\n",
       "      <th>Rings</th>\n",
       "    </tr>\n",
       "  </thead>\n",
       "  <tbody>\n",
       "    <tr>\n",
       "      <th>1763</th>\n",
       "      <td>M</td>\n",
       "      <td>0.775</td>\n",
       "      <td>0.63</td>\n",
       "      <td>0.25</td>\n",
       "      <td>2.7795</td>\n",
       "      <td>1.3485</td>\n",
       "      <td>0.76</td>\n",
       "      <td>0.578</td>\n",
       "      <td>12</td>\n",
       "    </tr>\n",
       "  </tbody>\n",
       "</table>\n",
       "</div>"
      ],
      "text/plain": [
       "     Sex  Length  Diameter  Height  Whole weight  Shucked weight  \\\n",
       "1763   M   0.775      0.63    0.25        2.7795          1.3485   \n",
       "\n",
       "      Viscera weight  Shell weight  Rings  \n",
       "1763            0.76         0.578     12  "
      ]
     },
     "execution_count": 95,
     "metadata": {},
     "output_type": "execute_result"
    }
   ],
   "source": [
    "X_train[X_train['Viscera weight'] > 0.6]"
   ]
  },
  {
   "cell_type": "code",
   "execution_count": 96,
   "id": "1bd59495",
   "metadata": {},
   "outputs": [
    {
     "data": {
      "text/html": [
       "<div>\n",
       "<style scoped>\n",
       "    .dataframe tbody tr th:only-of-type {\n",
       "        vertical-align: middle;\n",
       "    }\n",
       "\n",
       "    .dataframe tbody tr th {\n",
       "        vertical-align: top;\n",
       "    }\n",
       "\n",
       "    .dataframe thead th {\n",
       "        text-align: right;\n",
       "    }\n",
       "</style>\n",
       "<table border=\"1\" class=\"dataframe\">\n",
       "  <thead>\n",
       "    <tr style=\"text-align: right;\">\n",
       "      <th></th>\n",
       "      <th>Sex</th>\n",
       "      <th>Length</th>\n",
       "      <th>Diameter</th>\n",
       "      <th>Height</th>\n",
       "      <th>Whole weight</th>\n",
       "      <th>Shucked weight</th>\n",
       "      <th>Viscera weight</th>\n",
       "      <th>Shell weight</th>\n",
       "      <th>Rings</th>\n",
       "    </tr>\n",
       "  </thead>\n",
       "  <tbody>\n",
       "    <tr>\n",
       "      <th>163</th>\n",
       "      <td>F</td>\n",
       "      <td>0.725</td>\n",
       "      <td>0.56</td>\n",
       "      <td>0.21</td>\n",
       "      <td>2.141</td>\n",
       "      <td>0.65</td>\n",
       "      <td>0.398</td>\n",
       "      <td>1.005</td>\n",
       "      <td>18</td>\n",
       "    </tr>\n",
       "  </tbody>\n",
       "</table>\n",
       "</div>"
      ],
      "text/plain": [
       "    Sex  Length  Diameter  Height  Whole weight  Shucked weight  \\\n",
       "163   F   0.725      0.56    0.21         2.141            0.65   \n",
       "\n",
       "     Viscera weight  Shell weight  Rings  \n",
       "163           0.398         1.005     18  "
      ]
     },
     "execution_count": 96,
     "metadata": {},
     "output_type": "execute_result"
    }
   ],
   "source": [
    "X_train[X_train['Shell weight'] > 0.9]"
   ]
  },
  {
   "cell_type": "code",
   "execution_count": 97,
   "id": "cee709a5",
   "metadata": {},
   "outputs": [],
   "source": [
    "# Dropando estes outliers\n",
    "X_train = X_train.drop(index=[2051, 1209, 1763, 163])\n",
    "y_train = y_train.drop(index=[2051, 1209, 1763, 163])"
   ]
  },
  {
   "cell_type": "code",
   "execution_count": 98,
   "id": "0c84004c",
   "metadata": {
    "scrolled": true
   },
   "outputs": [
    {
     "data": {
      "image/png": "[encoded data removed]",
      "text/plain": [
       "<Figure size 1080x1296 with 7 Axes>"
      ]
     },
     "metadata": {
      "needs_background": "light"
     },
     "output_type": "display_data"
    }
   ],
   "source": [
    "# Boxplot das variáveis contínuas (pós remoção dos outliers)\n",
    "plt.figure(figsize=(15, 18))\n",
    "for i in range(0,len(X_train[var_contin].columns)):\n",
    "    plt.subplot(4,7, i+1)\n",
    "    plt.boxplot(X_train[X_train[var_contin].columns[i]], autorange=True)\n",
    "    plt.title(X_train[var_contin].columns[i], fontdict= {'fontsize': 15 ,'fontweight': 5, 'color':'000000'})\n",
    "    plt.AutoLocator.default_params\n",
    "plt.show()"
   ]
  },
  {
   "cell_type": "markdown",
   "id": "223969b3",
   "metadata": {},
   "source": [
    "Apesar de ainda existir uma quantidade considerável de outliers, optou-se por não remover os demais devido a o dataset ser relativamente pequeno. E, portanto, existir também a preocupação de que, com a remoção dos outliers, os modelos não teriam dados suficientes para \"aprender\" de forma efetiva sobre as features."
   ]
  },
  {
   "cell_type": "markdown",
   "id": "6edb85fb",
   "metadata": {},
   "source": [
    "**Análise de coliearidade entre features**"
   ]
  },
  {
   "cell_type": "code",
   "execution_count": 99,
   "id": "c4b17dc7",
   "metadata": {
    "scrolled": true
   },
   "outputs": [
    {
     "data": {
      "image/png": "[encoded data removed]",
      "text/plain": [
       "<Figure size 1080x288 with 2 Axes>"
      ]
     },
     "metadata": {
      "needs_background": "light"
     },
     "output_type": "display_data"
    }
   ],
   "source": [
    "# Matriz de correlação\n",
    "plt.figure(figsize=(15, 4))\n",
    "sns.heatmap(X_train.drop(columns=['Sex', 'Rings']).corr(method='pearson'), annot = True, cmap='mako_r',\n",
    "           mask=np.triu(np.ones_like(X_train.drop(columns=['Sex', 'Rings']).corr())));\n",
    "plt.title('Análise de Colinearidade entre as Features do modelo')\n",
    "plt.show()"
   ]
  },
  {
   "cell_type": "markdown",
   "id": "62cfd6ea",
   "metadata": {},
   "source": [
    "Há uma **alta** correlação entre várias das features. Isso indica que modelos que assumem que todas as variáveis são independentes entre si (como Naive Bayes) tenderão a não performar bem."
   ]
  },
  {
   "cell_type": "markdown",
   "id": "1a1162f4",
   "metadata": {},
   "source": [
    "**Análise de distribuição do número de anéis entre os dados de treino**"
   ]
  },
  {
   "cell_type": "code",
   "execution_count": 100,
   "id": "595a7adf",
   "metadata": {},
   "outputs": [
    {
     "data": {
      "image/png": "[encoded data removed]",
      "text/plain": [
       "<Figure size 1008x288 with 2 Axes>"
      ]
     },
     "metadata": {
      "needs_background": "light"
     },
     "output_type": "display_data"
    }
   ],
   "source": [
    "fig, ax= plt.subplots(ncols=2, figsize=(14, 4))\n",
    "\n",
    "# Histograma, e rugplot deixa as marquinhas lá embaixo\n",
    "sns.histplot(X_train['Rings'], stat='density', ax=ax[0]).axvline(9,color='red',linestyle=':')\n",
    "sns.rugplot(X_train['Rings'], ax=ax[0], color='black')\n",
    "\n",
    "# Gráfico de \"KDE\".\n",
    "sns.kdeplot(X_train['Rings'], ax=ax[1]).axvline(9,color='red',linestyle=':')\n",
    "sns.rugplot(X_train['Rings'], ax=ax[1], color='black')\n",
    "\n",
    "plt.show()"
   ]
  },
  {
   "cell_type": "markdown",
   "id": "1d074268",
   "metadata": {},
   "source": [
    "Através do histograma e gráfico KDE é possível perceber que o número de anéis é distribuído de forma assimétrica e limitada inferiormente por 0. Nota-se que, devido ao seu formato, será possível uma primeira aproximação da distribuição como gaussiana."
   ]
  },
  {
   "cell_type": "code",
   "execution_count": 101,
   "id": "3073b68f",
   "metadata": {},
   "outputs": [
    {
     "data": {
      "text/plain": [
       "1    0.504407\n",
       "0    0.495593\n",
       "Name: Target, dtype: float64"
      ]
     },
     "execution_count": 101,
     "metadata": {},
     "output_type": "execute_result"
    }
   ],
   "source": [
    "# Distribuição da Target (%)\n",
    "y_train.value_counts(normalize=True) "
   ]
  },
  {
   "cell_type": "markdown",
   "id": "fc43c9b4",
   "metadata": {},
   "source": [
    "É possível perceber que as classes da target estão balanceadas. Caso não estivessem, o modelo poderia \"aprender\" mais sobre uma classe do que a outra e, por isso, funcionar bem apenas para a classe que aprendeu mais. Nesse caso, esse não será um problema."
   ]
  },
  {
   "cell_type": "code",
   "execution_count": 102,
   "id": "fd0dcfb7",
   "metadata": {},
   "outputs": [
    {
     "data": {
      "text/plain": [
       "M    0.365818\n",
       "I    0.321743\n",
       "F    0.312439\n",
       "Name: Sex, dtype: float64"
      ]
     },
     "execution_count": 102,
     "metadata": {},
     "output_type": "execute_result"
    }
   ],
   "source": [
    "# Balanceamento entre as categorias 'Sex'\n",
    "X_train['Sex'].value_counts(normalize=True) "
   ]
  },
  {
   "cell_type": "markdown",
   "id": "e5c2969b",
   "metadata": {},
   "source": [
    "Quanto à variável categórica `Sex` os dados também estão satisfatoriamente balanceados, evitando o mesmo problema potencial, mencionado anteriormente. Em seguida é averiguada a distribuição de anéis nos dados, tendo em vista a feature `Sex`:"
   ]
  },
  {
   "cell_type": "code",
   "execution_count": 103,
   "id": "20168be4",
   "metadata": {},
   "outputs": [
    {
     "data": {
      "image/png": "[encoded data removed]",
      "text/plain": [
       "<Figure size 1152x288 with 2 Axes>"
      ]
     },
     "metadata": {
      "needs_background": "light"
     },
     "output_type": "display_data"
    }
   ],
   "source": [
    "fig, ax= plt.subplots(ncols=2, figsize=(16, 4))\n",
    "\n",
    "# Gráfico ECDF\n",
    "sns.ecdfplot(data = X_train, x = 'Rings', ax=ax[0], \n",
    "             hue = 'Sex', legend = True).axvline(9, color='red', linestyle=':')\n",
    "\n",
    "# Gráfico KDE\n",
    "sns.kdeplot(X_train['Rings'],  ax=ax[1], hue = X_train['Sex']).axvline(9,color='red',linestyle=':')\n",
    "\n",
    "plt.show()"
   ]
  },
  {
   "cell_type": "markdown",
   "id": "25557c2b",
   "metadata": {},
   "source": [
    "A partir dos gráficos ECDF e KDE é possível perceber que a média e mediana da classe `Sex` == I destoa significativamente das demais classes. Além disso, é possível observar que a maioria dos abalones sexualmente imaturos possuem menos de 9 anéis, já a maioria dos maduros possui mais de 9 anéis. A partir dessa informação foi buscada uma maior compreensão sobre a variável no artigo de onde os dados se originaram. A partir da leitura do artigo foi possível compreender que a maturação é ao menos parcialmente influenciada pela idade deste organismos.\n",
    "\n",
    ">\"This study has shown that sexual maturation commences at about six years of age (assuming one growth ring per year), and a steadily increasing proportion of successively older year classes is mature. Nearly all (80 to 90 percent) of the animals in a year class are mature at 10 to 12 years of age.\" ([Fonte](https://www.researchgate.net/profile/Warwick-Nash/publication/287546509_7he_Population_Biology_of_Abalone_Haliotis_species_in_Tasmania_I_Blacklip_Abalone_H_rubra_from_the_North_Coast_and_Islands_of_Bass_Strait/links/5d949460458515202b7bf592/7he-Population-Biology-of-Abalone-Haliotis-species-in-Tasmania-I-Blacklip-Abalone-H-rubra-from-the-North-Coast-and-Islands-of-Bass-Strait.pdf))\n",
    "\n",
    "Existe portanto uma relação de casualidade (ao menos parcial) entre a idade e o sexo. A partir dessa informação foi determinado que essa feature define o target e, por isso, seria equivocado utilizá-la no modelo preditivo. A feature `Sex` foi então removida."
   ]
  },
  {
   "cell_type": "code",
   "execution_count": 104,
   "id": "067b69c2",
   "metadata": {},
   "outputs": [],
   "source": [
    "# Removendo as features \n",
    "X_train = X_train.drop(columns=['Sex', 'Rings'])\n",
    "X_val = X_val.drop(columns=['Sex', 'Rings'])\n",
    "X_test = X_test.drop(columns=['Sex', 'Rings'])"
   ]
  },
  {
   "cell_type": "markdown",
   "id": "8bc4e1bb",
   "metadata": {},
   "source": [
    "### Feature Selection"
   ]
  },
  {
   "cell_type": "markdown",
   "id": "08622399",
   "metadata": {},
   "source": [
    "#### Feature Importance"
   ]
  },
  {
   "cell_type": "code",
   "execution_count": 105,
   "id": "8fce566c",
   "metadata": {},
   "outputs": [
    {
     "data": {
      "text/plain": [
       "RandomForestClassifier(max_depth=5, random_state=42)"
      ]
     },
     "execution_count": 105,
     "metadata": {},
     "output_type": "execute_result"
    }
   ],
   "source": [
    "model_selec = RandomForestClassifier(max_depth=5, random_state= 42)\n",
    "model_selec.fit(X_train, y_train)"
   ]
  },
  {
   "cell_type": "code",
   "execution_count": 106,
   "id": "ba3d4c8d",
   "metadata": {},
   "outputs": [
    {
     "data": {
      "image/png": "[encoded data removed]",
      "text/plain": [
       "<Figure size 432x288 with 1 Axes>"
      ]
     },
     "metadata": {
      "needs_background": "light"
     },
     "output_type": "display_data"
    }
   ],
   "source": [
    "forest_importances = pd.Series(model_selec.feature_importances_, index=X_train.columns.values)\n",
    "\n",
    "fig, ax = plt.subplots()\n",
    "forest_importances.plot.barh(ax=ax)\n",
    "ax.set_title(\"Feature importances usando impureza\")\n",
    "ax.set_ylabel(\"Diminuição média na impureza.\")\n",
    "fig.tight_layout()"
   ]
  },
  {
   "cell_type": "markdown",
   "id": "d5a5e093",
   "metadata": {},
   "source": [
    "#### Regressão Stepwise "
   ]
  },
  {
   "cell_type": "code",
   "execution_count": 107,
   "id": "c09d85d8",
   "metadata": {},
   "outputs": [
    {
     "data": {
      "text/plain": [
       "SequentialFeatureSelector(direction='backward',\n",
       "                          estimator=RandomForestClassifier(max_depth=5,\n",
       "                                                           random_state=42),\n",
       "                          n_features_to_select=2, scoring='precision')"
      ]
     },
     "execution_count": 107,
     "metadata": {},
     "output_type": "execute_result"
    }
   ],
   "source": [
    "feature_selector = SequentialFeatureSelector(model_selec,\n",
    "                                             n_features_to_select= 2, \n",
    "                                             direction='backward', \n",
    "                                             scoring='precision',\n",
    "                                             cv=5)\n",
    "\n",
    "feature_selector.fit(X_train, y_train)"
   ]
  },
  {
   "cell_type": "code",
   "execution_count": 108,
   "id": "e9eef99e",
   "metadata": {},
   "outputs": [
    {
     "data": {
      "text/plain": [
       "array(['Shucked weight', 'Shell weight'], dtype='<U14')"
      ]
     },
     "execution_count": 108,
     "metadata": {},
     "output_type": "execute_result"
    }
   ],
   "source": [
    "# Verificando quais features foram selecionadas para o modelo\n",
    "np.array(list(X_train.columns))[feature_selector.get_support()== True]"
   ]
  },
  {
   "cell_type": "code",
   "execution_count": 109,
   "id": "0c545916",
   "metadata": {},
   "outputs": [
    {
     "data": {
      "text/plain": [
       "array(['Length', 'Diameter', 'Height', 'Whole weight', 'Viscera weight'],\n",
       "      dtype='<U14')"
      ]
     },
     "execution_count": 109,
     "metadata": {},
     "output_type": "execute_result"
    }
   ],
   "source": [
    "# Verificando quais features NÃO foram selecionadas para o modelo\n",
    "np.array(list(X_train.columns))[feature_selector.get_support() == False]"
   ]
  },
  {
   "cell_type": "markdown",
   "id": "620394ef",
   "metadata": {},
   "source": [
    "#### Permutation Importance "
   ]
  },
  {
   "cell_type": "code",
   "execution_count": 110,
   "id": "a24298e1",
   "metadata": {},
   "outputs": [
    {
     "data": {
      "text/plain": [
       "RandomForestClassifier(max_depth=5, random_state=42)"
      ]
     },
     "execution_count": 110,
     "metadata": {},
     "output_type": "execute_result"
    }
   ],
   "source": [
    "selec_semFM = RandomForestClassifier(max_depth=5, random_state= 42)\n",
    "selec_semFM.fit(X_train, y_train)"
   ]
  },
  {
   "cell_type": "code",
   "execution_count": 111,
   "id": "8929b3aa",
   "metadata": {},
   "outputs": [],
   "source": [
    "result = permutation_importance(selec_semFM, \n",
    "                                X_train, y_train, \n",
    "                                scoring='precision', \n",
    "                                n_repeats=10,\n",
    "                                random_state=42)"
   ]
  },
  {
   "cell_type": "code",
   "execution_count": 112,
   "id": "7f872da7",
   "metadata": {},
   "outputs": [],
   "source": [
    "sorted_idx = result.importances_mean.argsort()"
   ]
  },
  {
   "cell_type": "code",
   "execution_count": 113,
   "id": "7e7fbbd6",
   "metadata": {},
   "outputs": [
    {
     "data": {
      "image/png": "[encoded data removed]",
      "text/plain": [
       "<Figure size 576x288 with 1 Axes>"
      ]
     },
     "metadata": {
      "needs_background": "light"
     },
     "output_type": "display_data"
    }
   ],
   "source": [
    "plt.figure(figsize=(8, 4))\n",
    "plt.boxplot(result.importances[sorted_idx].T, vert=False, labels=X_train.columns.values)\n",
    "plt.title(\"Permutation Importances (test set)\")\n",
    "fig.tight_layout()\n",
    "plt.show()"
   ]
  },
  {
   "cell_type": "markdown",
   "id": "598d0087",
   "metadata": {},
   "source": [
    "#### Comparando features selecionadas"
   ]
  },
  {
   "cell_type": "markdown",
   "id": "9e9127f6",
   "metadata": {},
   "source": [
    "O método **Feature Importance** selecionou as features `Shell weight` e `Height` <br>\n",
    "O método **Regressão Stepwise** selecionou as features `Shell weight` e `Shucked weight` <br>\n",
    "E, por fim o, o método **Permutation Importance** selecionou as features `Shell weight` e `Viscera weight` <br>\n",
    "\n",
    "É possível portanto concluir que a feature `Shell weight` é, muito provavelmente, importante para a previsão da target. Em contrapartida, cada método escolheu uma segunda feature diferente. Portanto, no treino de modelos, além do conjunto total de features serão testados também os conjuntos de features selecionados por cada um dos métodos. "
   ]
  },
  {
   "cell_type": "code",
   "execution_count": 114,
   "id": "e12c1684",
   "metadata": {},
   "outputs": [],
   "source": [
    "features_teste = {'Todas': ['Length', 'Diameter', 'Height', 'Whole weight',  \n",
    "                            'Shucked weight','Viscera weight', 'Shell weight'], # todas as features\n",
    "                  'Feat. Imp.': ['Height', 'Shell weight'],   # método feature importance\n",
    "                  'Reg. Stepwise': ['Shucked weight', 'Shell weight'], # método regressão stepwise\n",
    "                  'Permut. Imp.': ['Viscera weight', 'Shell weight'], # método permutation importance\n",
    "                  'Mix' : ['Height', 'Shell weight', 'Shucked weight', 'Viscera weight'] # todos os métodos\n",
    "                 }\n",
    "features_expl = {'Todas': 'todas as features originais do dataset',\n",
    "                 'Feat. Imp.': 'features escolhidas pelo método \"Feature Importance\"',\n",
    "                 'Reg. Stepwise': 'features escolhidas pelo método \"Regressão Stepwise\"',\n",
    "                 'Permut. Imp.': 'features escolhidas pelo método \"Permutation Importance\"',\n",
    "                 'Mix' : 'features escolhidas pelos métodos \"Feature Importance\", \"Regressão Stepwise\" e Permutation Importance\"'\n",
    "                  }"
   ]
  },
  {
   "cell_type": "markdown",
   "id": "84833247",
   "metadata": {},
   "source": [
    "## Aplicando Modelos"
   ]
  },
  {
   "cell_type": "markdown",
   "id": "4434c1c0",
   "metadata": {},
   "source": [
    "### Regressão Logística"
   ]
  },
  {
   "cell_type": "code",
   "execution_count": 115,
   "id": "58fbdef4",
   "metadata": {},
   "outputs": [
    {
     "data": {
      "text/plain": [
       "{'memory': None,\n",
       " 'steps': [('scaler', StandardScaler()),\n",
       "  ('model', LogisticRegression(penalty='none', random_state=42))],\n",
       " 'verbose': False,\n",
       " 'scaler': StandardScaler(),\n",
       " 'model': LogisticRegression(penalty='none', random_state=42),\n",
       " 'scaler__copy': True,\n",
       " 'scaler__with_mean': True,\n",
       " 'scaler__with_std': True,\n",
       " 'model__C': 1.0,\n",
       " 'model__class_weight': None,\n",
       " 'model__dual': False,\n",
       " 'model__fit_intercept': True,\n",
       " 'model__intercept_scaling': 1,\n",
       " 'model__l1_ratio': None,\n",
       " 'model__max_iter': 100,\n",
       " 'model__multi_class': 'auto',\n",
       " 'model__n_jobs': None,\n",
       " 'model__penalty': 'none',\n",
       " 'model__random_state': 42,\n",
       " 'model__solver': 'lbfgs',\n",
       " 'model__tol': 0.0001,\n",
       " 'model__verbose': 0,\n",
       " 'model__warm_start': False}"
      ]
     },
     "execution_count": 115,
     "metadata": {},
     "output_type": "execute_result"
    }
   ],
   "source": [
    "# Instanciando o modelo SEM otimização\n",
    "pipe_rlog = Pipeline([('scaler', StandardScaler()),\n",
    "                     ('model', LogisticRegression(penalty = 'none', random_state = 42))])\n",
    "pipe_rlog.get_params()"
   ]
  },
  {
   "cell_type": "code",
   "execution_count": 116,
   "id": "b08890b0",
   "metadata": {},
   "outputs": [
    {
     "data": {
      "image/png": "[encoded data removed]",
      "text/plain": [
       "<Figure size 504x288 with 1 Axes>"
      ]
     },
     "metadata": {
      "needs_background": "light"
     },
     "output_type": "display_data"
    },
    {
     "data": {
      "text/markdown": [
       "Portanto é possível concluir que a maior precisão obtida foi de **0.8014** quando foram utilizadas todas as features originais do dataset, ou seja, foi utilizado o grupo de features: `Length`,  `Diameter`,  `Height`,  `Whole weight`,  `Shucked weight`,  `Viscera weight`,  `Shell weight`."
      ],
      "text/plain": [
       "<IPython.core.display.Markdown object>"
      ]
     },
     "metadata": {},
     "output_type": "display_data"
    }
   ],
   "source": [
    "# Comparando a performance do modelo para cada grupo de features\n",
    "metrics = []\n",
    "for nome, grupo in features_teste.items():\n",
    "    pipe_rlog.fit(X_train[grupo], y_train)\n",
    "    y_pred_rlog = pipe_rlog.predict(X_val[grupo])\n",
    "    metrics.append([nome, np.round(precision_score(y_val, y_pred_rlog), decimals=4)])\n",
    "    \n",
    "df_metrics = pd.DataFrame(data= metrics, columns = ['features', 'precision'])\n",
    "\n",
    "# Gerando gráfico\n",
    "plt.figure(figsize=(7, 4))\n",
    "ax = sns.barplot(x=\"features\", y=\"precision\", data=df_metrics, palette='mako')\n",
    "\n",
    "for v in ax.patches:\n",
    "    ax.annotate(format(v.get_height()), \n",
    "                   (v.get_x() + v.get_width() / 2., v.get_height()), \n",
    "                   ha = 'center', va = 'center', \n",
    "                   xytext = (0, 9), \n",
    "                   textcoords = 'offset points')\n",
    "    \n",
    "ax.set(xlabel = None, ylabel = 'Precisão', ylim =(0.74, 0.81),\n",
    "       title = 'Precisão do modelo de acordo com o grupo features utilizado')\n",
    "plt.show() \n",
    "\n",
    "# Guardando a precisão do modelo com o melhor conjunto de features (todas)\n",
    "prec_rlog_pre = (max(df_metrics['precision']))\n",
    "\n",
    "# Mensagem de análise do gráfico\n",
    "k = features_teste[df_metrics[df_metrics['precision'] == max(df_metrics['precision'])]['features'].values[0]]\n",
    "printmd('Portanto é possível concluir que a maior precisão obtida foi de **'+ str(prec_rlog_pre) +\n",
    "       '** quando foram utilizadas ' + # rever - mudar para explicaçãozinha do grupo\n",
    "       features_expl[df_metrics[df_metrics['precision'] == max(df_metrics['precision'])]['features'].values[0] ]+\n",
    "       ', ou seja, foi utilizado o grupo de features: ' + \n",
    "       ' '.join([(('`'+ k[i] +'`, ') if i != (len(k)-1) else ('`'+ k[i] +'`.')) for i in range(len(k))]))"
   ]
  },
  {
   "cell_type": "markdown",
   "id": "18197a59",
   "metadata": {},
   "source": [
    "**Otimização de Hiperparâmetros**"
   ]
  },
  {
   "cell_type": "code",
   "execution_count": 117,
   "id": "5f0da534",
   "metadata": {},
   "outputs": [
    {
     "data": {
      "text/plain": [
       "{'model__C': array([1.00000000e-04, 1.45634848e-04, 2.12095089e-04, 3.08884360e-04,\n",
       "        4.49843267e-04, 6.55128557e-04, 9.54095476e-04, 1.38949549e-03,\n",
       "        2.02358965e-03, 2.94705170e-03, 4.29193426e-03, 6.25055193e-03,\n",
       "        9.10298178e-03, 1.32571137e-02, 1.93069773e-02, 2.81176870e-02,\n",
       "        4.09491506e-02, 5.96362332e-02, 8.68511374e-02, 1.26485522e-01,\n",
       "        1.84206997e-01, 2.68269580e-01, 3.90693994e-01, 5.68986603e-01,\n",
       "        8.28642773e-01, 1.20679264e+00, 1.75751062e+00, 2.55954792e+00,\n",
       "        3.72759372e+00, 5.42867544e+00, 7.90604321e+00, 1.15139540e+01,\n",
       "        1.67683294e+01, 2.44205309e+01, 3.55648031e+01, 5.17947468e+01,\n",
       "        7.54312006e+01, 1.09854114e+02, 1.59985872e+02, 2.32995181e+02,\n",
       "        3.39322177e+02, 4.94171336e+02, 7.19685673e+02, 1.04811313e+03,\n",
       "        1.52641797e+03, 2.22299648e+03, 3.23745754e+03, 4.71486636e+03,\n",
       "        6.86648845e+03, 1.00000000e+04]),\n",
       " 'model__penalty': ['l1', 'l2']}"
      ]
     },
     "metadata": {},
     "output_type": "display_data"
    }
   ],
   "source": [
    "# Hiperparâmetros que serão testados   \n",
    "\n",
    "# C\n",
    "C = np.logspace(-4, 4, 50)\n",
    "\n",
    "# Penalty\n",
    "penalty = ['l1', 'l2']\n",
    "\n",
    "# Criamos o grid de escolhas\n",
    "params_grid = {'model__C': C,\n",
    "               'model__penalty': penalty}\n",
    "\n",
    "display(params_grid)"
   ]
  },
  {
   "cell_type": "code",
   "execution_count": 118,
   "id": "e70b3119",
   "metadata": {},
   "outputs": [],
   "source": [
    "# Aplicando Random Search para encontrar melhores hiperparâmetros\n",
    "random_search = RandomizedSearchCV(estimator = pipe_rlog, \n",
    "                                   param_distributions = params_grid, \n",
    "                                   scoring='precision',\n",
    "                                   n_iter = 100, \n",
    "                                   cv = 10, \n",
    "                                   verbose=2,\n",
    "                                   n_jobs = 2,\n",
    "                                   random_state=42)"
   ]
  },
  {
   "cell_type": "code",
   "execution_count": 119,
   "id": "b2037d8d",
   "metadata": {},
   "outputs": [
    {
     "name": "stdout",
     "output_type": "stream",
     "text": [
      "Fitting 10 folds for each of 100 candidates, totalling 1000 fits\n",
      "Wall time: 34.1 s\n"
     ]
    },
    {
     "name": "stderr",
     "output_type": "stream",
     "text": [
      "C:\\Users\\win10\\anaconda3\\lib\\site-packages\\sklearn\\model_selection\\_search.py:918: UserWarning: One or more of the test scores are non-finite: [       nan 0.72987428        nan 0.73137446        nan 0.73174732\n",
      "        nan 0.73250663        nan 0.73386212        nan 0.7341356\n",
      "        nan 0.73565985        nan 0.73751574        nan 0.73810399\n",
      "        nan 0.73979443        nan 0.74355078        nan 0.74429447\n",
      "        nan 0.74957561        nan 0.75378006        nan 0.76060955\n",
      "        nan 0.76793998        nan 0.77396437        nan 0.77907744\n",
      "        nan 0.78277068        nan 0.78748414        nan 0.79151052\n",
      "        nan 0.79577211        nan 0.79686447        nan 0.79543659\n",
      "        nan 0.79817016        nan 0.80288689        nan 0.80334919\n",
      "        nan 0.80470632        nan 0.80561111        nan 0.80766194\n",
      "        nan 0.80766194        nan 0.80688926        nan 0.80669342\n",
      "        nan 0.80572022        nan 0.80490596        nan 0.80575805\n",
      "        nan 0.80575805        nan 0.80552779        nan 0.80552779\n",
      "        nan 0.80570748        nan 0.80570748        nan 0.80570748\n",
      "        nan 0.80570748        nan 0.80570748        nan 0.80570748\n",
      "        nan 0.80570748        nan 0.80570748        nan 0.80570748\n",
      "        nan 0.80570748        nan 0.80570748]\n",
      "  warnings.warn(\n"
     ]
    },
    {
     "data": {
      "text/plain": [
       "RandomizedSearchCV(cv=10,\n",
       "                   estimator=Pipeline(steps=[('scaler', StandardScaler()),\n",
       "                                             ('model',\n",
       "                                              LogisticRegression(penalty='none',\n",
       "                                                                 random_state=42))]),\n",
       "                   n_iter=100, n_jobs=2,\n",
       "                   param_distributions={'model__C': array([1.00000000e-04, 1.45634848e-04, 2.12095089e-04, 3.08884360e-04,\n",
       "       4.49843267e-04, 6.55128557e-04, 9.54095476e-04, 1.38949549e-03,\n",
       "       2.02358965e-03, 2.94705170e-03...\n",
       "       3.72759372e+00, 5.42867544e+00, 7.90604321e+00, 1.15139540e+01,\n",
       "       1.67683294e+01, 2.44205309e+01, 3.55648031e+01, 5.17947468e+01,\n",
       "       7.54312006e+01, 1.09854114e+02, 1.59985872e+02, 2.32995181e+02,\n",
       "       3.39322177e+02, 4.94171336e+02, 7.19685673e+02, 1.04811313e+03,\n",
       "       1.52641797e+03, 2.22299648e+03, 3.23745754e+03, 4.71486636e+03,\n",
       "       6.86648845e+03, 1.00000000e+04]),\n",
       "                                        'model__penalty': ['l1', 'l2']},\n",
       "                   random_state=42, scoring='precision', verbose=2)"
      ]
     },
     "execution_count": 119,
     "metadata": {},
     "output_type": "execute_result"
    }
   ],
   "source": [
    "%%time\n",
    "\n",
    "random_search.fit(X_train, y_train)"
   ]
  },
  {
   "cell_type": "code",
   "execution_count": 120,
   "id": "cd29c626",
   "metadata": {},
   "outputs": [
    {
     "data": {
      "text/plain": [
       "{'model__penalty': 'l2', 'model__C': 5.428675439323859}"
      ]
     },
     "metadata": {},
     "output_type": "display_data"
    }
   ],
   "source": [
    "# Hiperparâmetros escolhidos pós otimização\n",
    "display(random_search.best_params_)"
   ]
  },
  {
   "cell_type": "code",
   "execution_count": 121,
   "id": "0178cef1",
   "metadata": {},
   "outputs": [
    {
     "name": "stdout",
     "output_type": "stream",
     "text": [
      "A precisão do modelo inicial (não otimizado) foi de: 0.8014\n",
      "A precisão do modelo final (otimizado) foi de: 0.7963\n",
      "Ganho de: -0.6364 % na precisão após a otimização de hiperparâmetros.\n"
     ]
    }
   ],
   "source": [
    "# Rodando o modelo novamente, com os hiperparâmetros otimizados\n",
    "pipe_rlog_O = Pipeline([('scaler', StandardScaler()),\n",
    "                     ('model', LogisticRegression(C = random_search.best_params_['model__C'],\n",
    "                                                  penalty= random_search.best_params_['model__penalty'],\n",
    "                                                  random_state = 42))])\n",
    "\n",
    "# Avaliando modelo otimizado\n",
    "pipe_rlog_O.fit(X_train, y_train)\n",
    "y_pred_rlog_O = pipe_rlog_O.predict(X_val)\n",
    "prec_rlog_pos = np.round(precision_score(y_val, y_pred_rlog_O), decimals=4)\n",
    "\n",
    "# Avaliando o impacto da otimização\n",
    "ganho_rlog = ((prec_rlog_pos/prec_rlog_pre - 1) * 100)\n",
    "print(\"A precisão do modelo inicial (não otimizado) foi de:\", prec_rlog_pre)\n",
    "print(\"A precisão do modelo final (otimizado) foi de:\", prec_rlog_pos)\n",
    "print(\"Ganho de:\", np.round(ganho_rlog, decimals = 4), \"% na precisão após a otimização de hiperparâmetros.\")"
   ]
  },
  {
   "cell_type": "markdown",
   "id": "5f50a07b",
   "metadata": {},
   "source": [
    "### Árvore de Decisão"
   ]
  },
  {
   "cell_type": "code",
   "execution_count": 122,
   "id": "47ca5b2d",
   "metadata": {},
   "outputs": [
    {
     "data": {
      "text/plain": [
       "{'ccp_alpha': 0.0,\n",
       " 'class_weight': None,\n",
       " 'criterion': 'gini',\n",
       " 'max_depth': None,\n",
       " 'max_features': None,\n",
       " 'max_leaf_nodes': None,\n",
       " 'min_impurity_decrease': 0.0,\n",
       " 'min_impurity_split': None,\n",
       " 'min_samples_leaf': 1,\n",
       " 'min_samples_split': 2,\n",
       " 'min_weight_fraction_leaf': 0.0,\n",
       " 'random_state': 42,\n",
       " 'splitter': 'best'}"
      ]
     },
     "execution_count": 122,
     "metadata": {},
     "output_type": "execute_result"
    }
   ],
   "source": [
    "# Instanciando o modelo SEM OTIMIZAÇÃO\n",
    "model_tree = DecisionTreeClassifier(random_state = 42, max_depth=None)\n",
    "model_tree.get_params()"
   ]
  },
  {
   "cell_type": "code",
   "execution_count": 123,
   "id": "2a75977a",
   "metadata": {},
   "outputs": [
    {
     "data": {
      "image/png": "[encoded data removed]",
      "text/plain": [
       "<Figure size 504x288 with 1 Axes>"
      ]
     },
     "metadata": {
      "needs_background": "light"
     },
     "output_type": "display_data"
    },
    {
     "data": {
      "text/markdown": [
       "Portanto é possível concluir que a maior precisão obtida foi de **0.7457** quando foram utilizadas features escolhidas pelo método \"Regressão Stepwise\", ou seja, foi utilizado o grupo de features: `Shucked weight`,  `Shell weight`."
      ],
      "text/plain": [
       "<IPython.core.display.Markdown object>"
      ]
     },
     "metadata": {},
     "output_type": "display_data"
    }
   ],
   "source": [
    "# Comparando a performance do modelo para cada grupo de features\n",
    "metrics = []\n",
    "for nome, grupo in features_teste.items():\n",
    "    model_tree.fit(X_train[grupo], y_train)\n",
    "    y_pred_tree = model_tree.predict(X_val[grupo])\n",
    "    metrics.append([nome, np.round(precision_score(y_val, y_pred_tree), decimals=4)])\n",
    "    \n",
    "df_metrics = pd.DataFrame(data= metrics, columns = ['features', 'precision'])\n",
    "\n",
    "# Gerando gráfico\n",
    "plt.figure(figsize=(7, 4))\n",
    "ax = sns.barplot(x=\"features\", y=\"precision\", data=df_metrics, palette='mako')\n",
    "\n",
    "for v in ax.patches:\n",
    "    ax.annotate(format(v.get_height()), \n",
    "                   (v.get_x() + v.get_width() / 2., v.get_height()), \n",
    "                   ha = 'center', va = 'center', \n",
    "                   xytext = (0, 9), \n",
    "                   textcoords = 'offset points')\n",
    "    \n",
    "ax.set(xlabel = None, ylabel = 'Precisão', ylim =(0.6, 0.77),\n",
    "       title = 'Precisão do modelo de acordo com o grupo features utilizado')\n",
    "plt.show() \n",
    "\n",
    "# Guardando a precisão do modelo com o melhor conjunto de features (todas)\n",
    "prec_tree_pre = (max(df_metrics['precision']))\n",
    "\n",
    "# Mensagem de análise do gráfico\n",
    "k = features_teste[df_metrics[df_metrics['precision'] == max(df_metrics['precision'])]['features'].values[0]]\n",
    "printmd('Portanto é possível concluir que a maior precisão obtida foi de **'+ str(prec_tree_pre) +\n",
    "       '** quando foram utilizadas ' + # rever - mudar para explicaçãozinha do grupo\n",
    "       features_expl[df_metrics[df_metrics['precision'] == max(df_metrics['precision'])]['features'].values[0] ]+\n",
    "       ', ou seja, foi utilizado o grupo de features: ' + \n",
    "       ' '.join([(('`'+ k[i] +'`, ') if i != (len(k)-1) else ('`'+ k[i] +'`.')) for i in range(len(k))]))"
   ]
  },
  {
   "cell_type": "markdown",
   "id": "7332d1e2",
   "metadata": {},
   "source": [
    "**Otimização de Hiperparâmetros**"
   ]
  },
  {
   "cell_type": "code",
   "execution_count": 124,
   "id": "96245a16",
   "metadata": {},
   "outputs": [
    {
     "data": {
      "text/plain": [
       "{'criterion': ['gini', 'entropy'],\n",
       " 'max_depth': [2, 3, 4, 5, 6, 7, 8, 9, 10, 11, 12, 13, 14, 15, None],\n",
       " 'min_samples_split': [2, 3, 4, 5, 6, 7, 8, 9, 10],\n",
       " 'min_samples_leaf': [1, 2, 3, 4]}"
      ]
     },
     "metadata": {},
     "output_type": "display_data"
    }
   ],
   "source": [
    "# Hiperparâmetros que serão testados\n",
    "\n",
    "# Critério do split\n",
    "criterions = ['gini', 'entropy']\n",
    "\n",
    "# Profundidades máximas que iremos testar\n",
    "max_depth = [int(x) for x in range(2, 16)]\n",
    "max_depth.append(None)\n",
    "\n",
    "# Número de pontos mínimos necessário para permitir um split no nó\n",
    "min_samples_split = [int(x) for x in range(2, 11)]\n",
    "\n",
    "# Número de pontos mínimos que podem existir em cada folha (nó final)\n",
    "min_samples_leaf = [int(x) for x in range(1, 5)]\n",
    "\n",
    "# Criando o grid de escolhas\n",
    "params_grid = {'criterion': criterions,\n",
    "               'max_depth': max_depth,\n",
    "               'min_samples_split': min_samples_split,\n",
    "               'min_samples_leaf': min_samples_leaf}\n",
    "\n",
    "display(params_grid)"
   ]
  },
  {
   "cell_type": "code",
   "execution_count": 125,
   "id": "76885b3a",
   "metadata": {},
   "outputs": [],
   "source": [
    "# Aplicando Random Search para encontrar melhores hiperparâmetros\n",
    "random_search = RandomizedSearchCV(estimator = model_tree, \n",
    "                                   param_distributions = params_grid, \n",
    "                                   scoring='precision',\n",
    "                                   n_iter = 100, \n",
    "                                   cv = 10, \n",
    "                                   verbose=2,\n",
    "                                   n_jobs = 2,\n",
    "                                   random_state=42)"
   ]
  },
  {
   "cell_type": "code",
   "execution_count": 126,
   "id": "94a1d199",
   "metadata": {},
   "outputs": [
    {
     "name": "stdout",
     "output_type": "stream",
     "text": [
      "Fitting 10 folds for each of 100 candidates, totalling 1000 fits\n",
      "Wall time: 6.98 s\n"
     ]
    },
    {
     "data": {
      "text/plain": [
       "RandomizedSearchCV(cv=10, estimator=DecisionTreeClassifier(random_state=42),\n",
       "                   n_iter=100, n_jobs=2,\n",
       "                   param_distributions={'criterion': ['gini', 'entropy'],\n",
       "                                        'max_depth': [2, 3, 4, 5, 6, 7, 8, 9,\n",
       "                                                      10, 11, 12, 13, 14, 15,\n",
       "                                                      None],\n",
       "                                        'min_samples_leaf': [1, 2, 3, 4],\n",
       "                                        'min_samples_split': [2, 3, 4, 5, 6, 7,\n",
       "                                                              8, 9, 10]},\n",
       "                   random_state=42, scoring='precision', verbose=2)"
      ]
     },
     "execution_count": 126,
     "metadata": {},
     "output_type": "execute_result"
    }
   ],
   "source": [
    "%%time\n",
    "\n",
    "random_search.fit(X_train[features_teste['Reg. Stepwise']], y_train)"
   ]
  },
  {
   "cell_type": "code",
   "execution_count": 127,
   "id": "444cd432",
   "metadata": {},
   "outputs": [
    {
     "data": {
      "text/plain": [
       "{'min_samples_split': 2,\n",
       " 'min_samples_leaf': 4,\n",
       " 'max_depth': 15,\n",
       " 'criterion': 'gini'}"
      ]
     },
     "metadata": {},
     "output_type": "display_data"
    }
   ],
   "source": [
    "# Hiperparâmetros escolhidos pós otimização\n",
    "display(random_search.best_params_)"
   ]
  },
  {
   "cell_type": "code",
   "execution_count": 128,
   "id": "d0b4b402",
   "metadata": {},
   "outputs": [
    {
     "name": "stdout",
     "output_type": "stream",
     "text": [
      "A precisão do modelo inicial (não otimizado) foi de: 0.7457\n",
      "A precisão do modelo final (otimizado) foi de: 0.7555\n",
      "Ganho de: 1.3142 % na precisão após a otimização de hiperparâmetros.\n"
     ]
    }
   ],
   "source": [
    "# Rodando o modelo novamente, com os hiperparâmetros otimizados\n",
    "model_tree_O = DecisionTreeClassifier(criterion = random_search.best_params_['criterion'], \n",
    "                                      max_depth = random_search.best_params_['max_depth'], \n",
    "                                      min_samples_split = random_search.best_params_['min_samples_split'],\n",
    "                                      min_samples_leaf = random_search.best_params_['min_samples_leaf'],\n",
    "                                      random_state = 42)\n",
    "\n",
    "# Avaliando modelo otimizado\n",
    "model_tree_O.fit(X_train[features_teste['Reg. Stepwise']], y_train)\n",
    "y_pred_tree_O = model_tree_O.predict(X_val[features_teste['Reg. Stepwise']])\n",
    "prec_tree_pos = np.round(precision_score(y_val, y_pred_tree_O), decimals=4)\n",
    "\n",
    "# Avaliando o impacto da otimização\n",
    "ganho_tree = ((prec_tree_pos/prec_tree_pre - 1) * 100)\n",
    "print(\"A precisão do modelo inicial (não otimizado) foi de:\", prec_tree_pre)\n",
    "print(\"A precisão do modelo final (otimizado) foi de:\", prec_tree_pos)\n",
    "print(\"Ganho de:\", np.round(ganho_tree, decimals = 4), \"% na precisão após a otimização de hiperparâmetros.\")"
   ]
  },
  {
   "cell_type": "markdown",
   "id": "59fe1d00",
   "metadata": {},
   "source": [
    "### K-Nearest Neighbors (KNN)"
   ]
  },
  {
   "cell_type": "code",
   "execution_count": 129,
   "id": "eb31c5df",
   "metadata": {},
   "outputs": [
    {
     "data": {
      "text/plain": [
       "{'memory': None,\n",
       " 'steps': [('scaler', StandardScaler()), ('model', KNeighborsClassifier())],\n",
       " 'verbose': False,\n",
       " 'scaler': StandardScaler(),\n",
       " 'model': KNeighborsClassifier(),\n",
       " 'scaler__copy': True,\n",
       " 'scaler__with_mean': True,\n",
       " 'scaler__with_std': True,\n",
       " 'model__algorithm': 'auto',\n",
       " 'model__leaf_size': 30,\n",
       " 'model__metric': 'minkowski',\n",
       " 'model__metric_params': None,\n",
       " 'model__n_jobs': None,\n",
       " 'model__n_neighbors': 5,\n",
       " 'model__p': 2,\n",
       " 'model__weights': 'uniform'}"
      ]
     },
     "execution_count": 129,
     "metadata": {},
     "output_type": "execute_result"
    }
   ],
   "source": [
    "# Instanciando o modelo SEM otimização\n",
    "pipe_knn = Pipeline([('scaler', StandardScaler()),\n",
    "                     ('model', KNeighborsClassifier())])\n",
    "pipe_knn.get_params()"
   ]
  },
  {
   "cell_type": "code",
   "execution_count": 130,
   "id": "920a5036",
   "metadata": {},
   "outputs": [
    {
     "data": {
      "image/png": "[encoded data removed]",
      "text/plain": [
       "<Figure size 504x288 with 1 Axes>"
      ]
     },
     "metadata": {
      "needs_background": "light"
     },
     "output_type": "display_data"
    },
    {
     "data": {
      "text/markdown": [
       "Portanto é possível concluir que a maior precisão obtida foi de **0.7527** quando foram utilizadas features escolhidas pelos métodos \"Feature Importance\", \"Regressão Stepwise\" e Permutation Importance\", ou seja, foi utilizado o grupo de features: `Height`,  `Shell weight`,  `Shucked weight`,  `Viscera weight`."
      ],
      "text/plain": [
       "<IPython.core.display.Markdown object>"
      ]
     },
     "metadata": {},
     "output_type": "display_data"
    }
   ],
   "source": [
    "# Comparando a performance do modelo para cada grupo de features\n",
    "metrics = []\n",
    "for nome, grupo in features_teste.items():\n",
    "    pipe_knn.fit(X_train[grupo], y_train)\n",
    "    y_pred_knn = pipe_knn.predict(X_val[grupo])\n",
    "    metrics.append([nome, np.round(precision_score(y_val, y_pred_knn), decimals=4)])\n",
    "    \n",
    "df_metrics = pd.DataFrame(data= metrics, columns = ['features', 'precision'])\n",
    "\n",
    "# Gerando gráfico\n",
    "plt.figure(figsize=(7, 4))\n",
    "ax = sns.barplot(x=\"features\", y=\"precision\", data=df_metrics, palette='mako')\n",
    "\n",
    "for v in ax.patches:\n",
    "    ax.annotate(format(v.get_height()), \n",
    "                   (v.get_x() + v.get_width() / 2., v.get_height()), \n",
    "                   ha = 'center', va = 'center', \n",
    "                   xytext = (0, 9), \n",
    "                   textcoords = 'offset points')\n",
    "    \n",
    "ax.set(xlabel = None, ylabel = 'Precisão', ylim =(0.68, 0.775),\n",
    "       title = 'Precisão do modelo de acordo com o grupo features utilizado')\n",
    "plt.show()\n",
    "\n",
    "# Guardando a precisão do modelo com o melhor conjunto de features (todas)\n",
    "prec_knn_pre = (max(df_metrics['precision']))\n",
    "\n",
    "# Mensagem de análise do gráfico\n",
    "k = features_teste[df_metrics[df_metrics['precision'] == max(df_metrics['precision'])]['features'].values[0]]\n",
    "printmd('Portanto é possível concluir que a maior precisão obtida foi de **'+ str(prec_knn_pre) +\n",
    "       '** quando foram utilizadas ' + # rever - mudar para explicaçãozinha do grupo\n",
    "       features_expl[df_metrics[df_metrics['precision'] == max(df_metrics['precision'])]['features'].values[0] ]+\n",
    "       ', ou seja, foi utilizado o grupo de features: ' + \n",
    "       ' '.join([(('`'+ k[i] +'`, ') if i != (len(k)-1) else ('`'+ k[i] +'`.')) for i in range(len(k))]))"
   ]
  },
  {
   "cell_type": "markdown",
   "id": "4e6486a2",
   "metadata": {},
   "source": [
    "**Otimização de hiperparâmetros**"
   ]
  },
  {
   "cell_type": "code",
   "execution_count": 131,
   "id": "59a7359b",
   "metadata": {},
   "outputs": [],
   "source": [
    "# Hiperparâmetros que serão testados\n",
    "\n",
    "# Número de amostras em uma folha\n",
    "leaf_size = list(range(1,50))\n",
    "\n",
    "# K ou número mínimo de visinhos\n",
    "n_neighbors = list(range(1,30))\n",
    "\n",
    "# Criando o grid de escolhas\n",
    "params_grid = {'model__leaf_size': leaf_size,\n",
    "               'model__n_neighbors': n_neighbors}"
   ]
  },
  {
   "cell_type": "code",
   "execution_count": 132,
   "id": "e65fbb4b",
   "metadata": {},
   "outputs": [],
   "source": [
    "# Aplicando Random Search para encontrar melhores hiperparâmetros\n",
    "random_search = RandomizedSearchCV(estimator = pipe_knn, \n",
    "                                   param_distributions = params_grid, \n",
    "                                   scoring='precision',\n",
    "                                   n_iter = 100, \n",
    "                                   cv = 10, \n",
    "                                   verbose=2,\n",
    "                                   n_jobs = 2,\n",
    "                                   random_state=42)"
   ]
  },
  {
   "cell_type": "code",
   "execution_count": 133,
   "id": "06fb421a",
   "metadata": {},
   "outputs": [
    {
     "name": "stdout",
     "output_type": "stream",
     "text": [
      "Fitting 10 folds for each of 100 candidates, totalling 1000 fits\n",
      "Wall time: 14.8 s\n"
     ]
    },
    {
     "data": {
      "text/plain": [
       "RandomizedSearchCV(cv=10,\n",
       "                   estimator=Pipeline(steps=[('scaler', StandardScaler()),\n",
       "                                             ('model',\n",
       "                                              KNeighborsClassifier())]),\n",
       "                   n_iter=100, n_jobs=2,\n",
       "                   param_distributions={'model__leaf_size': [1, 2, 3, 4, 5, 6,\n",
       "                                                             7, 8, 9, 10, 11,\n",
       "                                                             12, 13, 14, 15, 16,\n",
       "                                                             17, 18, 19, 20, 21,\n",
       "                                                             22, 23, 24, 25, 26,\n",
       "                                                             27, 28, 29, 30, ...],\n",
       "                                        'model__n_neighbors': [1, 2, 3, 4, 5, 6,\n",
       "                                                               7, 8, 9, 10, 11,\n",
       "                                                               12, 13, 14, 15,\n",
       "                                                               16, 17, 18, 19,\n",
       "                                                               20, 21, 22, 23,\n",
       "                                                               24, 25, 26, 27,\n",
       "                                                               28, 29]},\n",
       "                   random_state=42, scoring='precision', verbose=2)"
      ]
     },
     "execution_count": 133,
     "metadata": {},
     "output_type": "execute_result"
    }
   ],
   "source": [
    "%%time\n",
    "\n",
    "random_search.fit(X_train[features_teste['Mix']], y_train)"
   ]
  },
  {
   "cell_type": "code",
   "execution_count": 134,
   "id": "42e5de21",
   "metadata": {},
   "outputs": [
    {
     "data": {
      "text/plain": [
       "{'model__n_neighbors': 2, 'model__leaf_size': 18}"
      ]
     },
     "metadata": {},
     "output_type": "display_data"
    }
   ],
   "source": [
    "# Hiperparâmetros escolhidos pós otimização\n",
    "display(random_search.best_params_)"
   ]
  },
  {
   "cell_type": "code",
   "execution_count": 135,
   "id": "8b48d8c6",
   "metadata": {},
   "outputs": [
    {
     "name": "stdout",
     "output_type": "stream",
     "text": [
      "A precisão do modelo inicial (não otimizado) foi de: 0.7527\n",
      "A precisão do modelo final (otimizado) foi de: 0.7841\n",
      "Ganho de: 4.1716 % na precisão após a otimização de hiperparâmetros.\n"
     ]
    }
   ],
   "source": [
    "# Rodando o modelo novamente, com os hiperparâmetros otimizados\n",
    "pipe_knn_O = Pipeline([('scaler', StandardScaler()),\n",
    "                     ('model', KNeighborsClassifier(\n",
    "                         n_neighbors= random_search.best_params_['model__n_neighbors'],\n",
    "                         leaf_size = random_search.best_params_['model__leaf_size']))])\n",
    "\n",
    "# Avaliando modelo otimizado\n",
    "pipe_knn_O.fit(X_train[features_teste['Mix']], y_train)\n",
    "y_pred_knn_O = pipe_knn_O.predict(X_val[features_teste['Mix']])\n",
    "prec_knn_pos = np.round(precision_score(y_val, y_pred_knn_O), decimals=4)\n",
    "\n",
    "# Avaliando o impacto da otimização\n",
    "ganho_knn = ((prec_knn_pos/prec_knn_pre - 1) * 100)\n",
    "print(\"A precisão do modelo inicial (não otimizado) foi de:\", prec_knn_pre)\n",
    "print(\"A precisão do modelo final (otimizado) foi de:\", prec_knn_pos)\n",
    "print(\"Ganho de:\", np.round(ganho_knn, decimals = 4), \"% na precisão após a otimização de hiperparâmetros.\")"
   ]
  },
  {
   "cell_type": "markdown",
   "id": "c2f11520",
   "metadata": {},
   "source": [
    "### Naive Bayes"
   ]
  },
  {
   "cell_type": "code",
   "execution_count": 136,
   "id": "8a089861",
   "metadata": {},
   "outputs": [
    {
     "data": {
      "text/plain": [
       "{'priors': None, 'var_smoothing': 1e-09}"
      ]
     },
     "execution_count": 136,
     "metadata": {},
     "output_type": "execute_result"
    }
   ],
   "source": [
    "# Instanciando o modelo SEM otimização\n",
    "model_naib = GaussianNB()\n",
    "model_naib.get_params()"
   ]
  },
  {
   "cell_type": "code",
   "execution_count": 137,
   "id": "8470bed5",
   "metadata": {},
   "outputs": [
    {
     "data": {
      "image/png": "[encoded data removed]",
      "text/plain": [
       "<Figure size 504x288 with 1 Axes>"
      ]
     },
     "metadata": {
      "needs_background": "light"
     },
     "output_type": "display_data"
    },
    {
     "data": {
      "text/markdown": [
       "Portanto é possível concluir que a maior precisão obtida foi de **0.7662** quando foram utilizadas features escolhidas pelo método \"Permutation Importance\", ou seja, foi utilizado o grupo de features: `Viscera weight`,  `Shell weight`."
      ],
      "text/plain": [
       "<IPython.core.display.Markdown object>"
      ]
     },
     "metadata": {},
     "output_type": "display_data"
    }
   ],
   "source": [
    "# Comparando a performance do modelo para cada grupo de features\n",
    "metrics = []\n",
    "for nome, grupo in features_teste.items():\n",
    "    model_naib.fit(X_train[grupo], y_train)\n",
    "    y_pred_naib = model_naib.predict(X_val[grupo])\n",
    "    metrics.append([nome, np.round(precision_score(y_val, y_pred_naib), decimals=4)])\n",
    "    \n",
    "df_metrics = pd.DataFrame(data= metrics, columns = ['features', 'precision'])\n",
    "\n",
    "# Gerando gráfico\n",
    "plt.figure(figsize=(7, 4))\n",
    "ax = sns.barplot(x=\"features\", y=\"precision\", data=df_metrics, palette='mako')\n",
    "\n",
    "for v in ax.patches:\n",
    "    ax.annotate(format(v.get_height()), \n",
    "                   (v.get_x() + v.get_width() / 2., v.get_height()), \n",
    "                   ha = 'center', va = 'center', \n",
    "                   xytext = (0, 9), \n",
    "                   textcoords = 'offset points')\n",
    "    \n",
    "ax.set(xlabel = None, ylabel = 'Precisão', ylim =(0.68, 0.78),\n",
    "       title = 'Precisão do modelo de acordo com o grupo features utilizado')\n",
    "plt.show() \n",
    "\n",
    "# Guardando a precisão do modelo com o melhor conjunto de features (todas)\n",
    "prec_naib_pre = (max(df_metrics['precision']))\n",
    "\n",
    "# Mensagem de análise do gráfico\n",
    "k = features_teste[df_metrics[df_metrics['precision'] == max(df_metrics['precision'])]['features'].values[0]]\n",
    "printmd('Portanto é possível concluir que a maior precisão obtida foi de **'+ str(prec_naib_pre) +\n",
    "       '** quando foram utilizadas ' + # rever - mudar para explicaçãozinha do grupo\n",
    "       features_expl[df_metrics[df_metrics['precision'] == max(df_metrics['precision'])]['features'].values[0] ]+\n",
    "       ', ou seja, foi utilizado o grupo de features: ' + \n",
    "       ' '.join([(('`'+ k[i] +'`, ') if i != (len(k)-1) else ('`'+ k[i] +'`.')) for i in range(len(k))]))"
   ]
  },
  {
   "cell_type": "markdown",
   "id": "72239e59",
   "metadata": {},
   "source": [
    "**Otimização de Hiperparâmetros**"
   ]
  },
  {
   "cell_type": "code",
   "execution_count": 138,
   "id": "9b2aa34d",
   "metadata": {},
   "outputs": [
    {
     "data": {
      "text/plain": [
       "{'var_smoothing': array([1.00000000e+00, 8.11130831e-01, 6.57933225e-01, 5.33669923e-01,\n",
       "        4.32876128e-01, 3.51119173e-01, 2.84803587e-01, 2.31012970e-01,\n",
       "        1.87381742e-01, 1.51991108e-01, 1.23284674e-01, 1.00000000e-01,\n",
       "        8.11130831e-02, 6.57933225e-02, 5.33669923e-02, 4.32876128e-02,\n",
       "        3.51119173e-02, 2.84803587e-02, 2.31012970e-02, 1.87381742e-02,\n",
       "        1.51991108e-02, 1.23284674e-02, 1.00000000e-02, 8.11130831e-03,\n",
       "        6.57933225e-03, 5.33669923e-03, 4.32876128e-03, 3.51119173e-03,\n",
       "        2.84803587e-03, 2.31012970e-03, 1.87381742e-03, 1.51991108e-03,\n",
       "        1.23284674e-03, 1.00000000e-03, 8.11130831e-04, 6.57933225e-04,\n",
       "        5.33669923e-04, 4.32876128e-04, 3.51119173e-04, 2.84803587e-04,\n",
       "        2.31012970e-04, 1.87381742e-04, 1.51991108e-04, 1.23284674e-04,\n",
       "        1.00000000e-04, 8.11130831e-05, 6.57933225e-05, 5.33669923e-05,\n",
       "        4.32876128e-05, 3.51119173e-05, 2.84803587e-05, 2.31012970e-05,\n",
       "        1.87381742e-05, 1.51991108e-05, 1.23284674e-05, 1.00000000e-05,\n",
       "        8.11130831e-06, 6.57933225e-06, 5.33669923e-06, 4.32876128e-06,\n",
       "        3.51119173e-06, 2.84803587e-06, 2.31012970e-06, 1.87381742e-06,\n",
       "        1.51991108e-06, 1.23284674e-06, 1.00000000e-06, 8.11130831e-07,\n",
       "        6.57933225e-07, 5.33669923e-07, 4.32876128e-07, 3.51119173e-07,\n",
       "        2.84803587e-07, 2.31012970e-07, 1.87381742e-07, 1.51991108e-07,\n",
       "        1.23284674e-07, 1.00000000e-07, 8.11130831e-08, 6.57933225e-08,\n",
       "        5.33669923e-08, 4.32876128e-08, 3.51119173e-08, 2.84803587e-08,\n",
       "        2.31012970e-08, 1.87381742e-08, 1.51991108e-08, 1.23284674e-08,\n",
       "        1.00000000e-08, 8.11130831e-09, 6.57933225e-09, 5.33669923e-09,\n",
       "        4.32876128e-09, 3.51119173e-09, 2.84803587e-09, 2.31012970e-09,\n",
       "        1.87381742e-09, 1.51991108e-09, 1.23284674e-09, 1.00000000e-09])}"
      ]
     },
     "metadata": {},
     "output_type": "display_data"
    }
   ],
   "source": [
    "# Hiperparâmetros que serão testados\n",
    "\n",
    "# Smoothing\n",
    "var_smoothing = np.logspace(0,-9, num=100)\n",
    "\n",
    "# Criando o grid de escolhas\n",
    "params_grid = {'var_smoothing': var_smoothing}\n",
    "\n",
    "display(params_grid)"
   ]
  },
  {
   "cell_type": "code",
   "execution_count": 139,
   "id": "91982742",
   "metadata": {},
   "outputs": [],
   "source": [
    "# Aplicando Random Search para encontrar melhores hiperparâmetros\n",
    "random_search = RandomizedSearchCV(estimator = model_naib, \n",
    "                                   param_distributions = params_grid, \n",
    "                                   scoring='precision',\n",
    "                                   n_iter = 100, \n",
    "                                   cv = 10, \n",
    "                                   verbose=2,\n",
    "                                   n_jobs = 2,\n",
    "                                   random_state=42)"
   ]
  },
  {
   "cell_type": "code",
   "execution_count": 140,
   "id": "029f8872",
   "metadata": {},
   "outputs": [
    {
     "name": "stdout",
     "output_type": "stream",
     "text": [
      "Fitting 10 folds for each of 100 candidates, totalling 1000 fits\n",
      "Wall time: 5.19 s\n"
     ]
    },
    {
     "data": {
      "text/plain": [
       "RandomizedSearchCV(cv=10, estimator=GaussianNB(), n_iter=100, n_jobs=2,\n",
       "                   param_distributions={'var_smoothing': array([1.00000000e+00, 8.11130831e-01, 6.57933225e-01, 5.33669923e-01,\n",
       "       4.32876128e-01, 3.51119173e-01, 2.84803587e-01, 2.31012970e-01,\n",
       "       1.87381742e-01, 1.51991108e-01, 1.23284674e-01, 1.00000000e-01,\n",
       "       8.11130831e-02, 6.57933225e-02, 5.33669923e-02, 4.32876128e-0...\n",
       "       1.23284674e-07, 1.00000000e-07, 8.11130831e-08, 6.57933225e-08,\n",
       "       5.33669923e-08, 4.32876128e-08, 3.51119173e-08, 2.84803587e-08,\n",
       "       2.31012970e-08, 1.87381742e-08, 1.51991108e-08, 1.23284674e-08,\n",
       "       1.00000000e-08, 8.11130831e-09, 6.57933225e-09, 5.33669923e-09,\n",
       "       4.32876128e-09, 3.51119173e-09, 2.84803587e-09, 2.31012970e-09,\n",
       "       1.87381742e-09, 1.51991108e-09, 1.23284674e-09, 1.00000000e-09])},\n",
       "                   random_state=42, scoring='precision', verbose=2)"
      ]
     },
     "execution_count": 140,
     "metadata": {},
     "output_type": "execute_result"
    }
   ],
   "source": [
    "%%time\n",
    "\n",
    "random_search.fit(X_train[features_teste['Permut. Imp.']], y_train)"
   ]
  },
  {
   "cell_type": "code",
   "execution_count": 141,
   "id": "39aa3e45",
   "metadata": {},
   "outputs": [
    {
     "data": {
      "text/plain": [
       "{'var_smoothing': 0.657933224657568}"
      ]
     },
     "metadata": {},
     "output_type": "display_data"
    }
   ],
   "source": [
    "# Hiperparâmetros escolhidos pós otimização\n",
    "display(random_search.best_params_)"
   ]
  },
  {
   "cell_type": "code",
   "execution_count": 142,
   "id": "086e4f8c",
   "metadata": {},
   "outputs": [
    {
     "name": "stdout",
     "output_type": "stream",
     "text": [
      "A precisão do modelo inicial (não otimizado) foi de: 0.7662\n",
      "A precisão do modelo final (otimizado) foi de: 0.7712\n",
      "Ganho de: 0.6526 % na precisão após a otimização de hiperparâmetros.\n"
     ]
    }
   ],
   "source": [
    "# Rodando o modelo novamente, com os hiperparâmetros otimizados\n",
    "model_naib_O = GaussianNB(var_smoothing=random_search.best_params_['var_smoothing'])\n",
    "\n",
    "# Avaliando modelo otimizado\n",
    "model_naib_O.fit(X_train[features_teste['Permut. Imp.']], y_train)\n",
    "y_pred_naib_O = model_naib_O.predict(X_val[features_teste['Permut. Imp.']])\n",
    "prec_naib_pos = np.round(precision_score(y_val, y_pred_naib_O), decimals=4)\n",
    "\n",
    "# Avaliando o impacto da otimização\n",
    "ganho_naib = ((prec_naib_pos/prec_naib_pre - 1) * 100)\n",
    "print(\"A precisão do modelo inicial (não otimizado) foi de:\", prec_naib_pre)\n",
    "print(\"A precisão do modelo final (otimizado) foi de:\", prec_naib_pos)\n",
    "print(\"Ganho de:\", np.round(ganho_naib, decimals = 4), \"% na precisão após a otimização de hiperparâmetros.\")"
   ]
  },
  {
   "cell_type": "markdown",
   "id": "9a268d0c",
   "metadata": {},
   "source": [
    "### Random Forest"
   ]
  },
  {
   "cell_type": "code",
   "execution_count": 143,
   "id": "b19dc8db",
   "metadata": {},
   "outputs": [
    {
     "data": {
      "text/plain": [
       "{'bootstrap': True,\n",
       " 'ccp_alpha': 0.0,\n",
       " 'class_weight': None,\n",
       " 'criterion': 'gini',\n",
       " 'max_depth': None,\n",
       " 'max_features': 'auto',\n",
       " 'max_leaf_nodes': None,\n",
       " 'max_samples': None,\n",
       " 'min_impurity_decrease': 0.0,\n",
       " 'min_impurity_split': None,\n",
       " 'min_samples_leaf': 1,\n",
       " 'min_samples_split': 2,\n",
       " 'min_weight_fraction_leaf': 0.0,\n",
       " 'n_estimators': 100,\n",
       " 'n_jobs': None,\n",
       " 'oob_score': False,\n",
       " 'random_state': 42,\n",
       " 'verbose': 0,\n",
       " 'warm_start': False}"
      ]
     },
     "execution_count": 143,
     "metadata": {},
     "output_type": "execute_result"
    }
   ],
   "source": [
    "# Instanciando o modelo SEM otimização\n",
    "model_frst = RandomForestClassifier(random_state=42)\n",
    "model_frst.get_params()"
   ]
  },
  {
   "cell_type": "code",
   "execution_count": 144,
   "id": "addd31fd",
   "metadata": {},
   "outputs": [
    {
     "data": {
      "image/png": "[encoded data removed]",
      "text/plain": [
       "<Figure size 504x288 with 1 Axes>"
      ]
     },
     "metadata": {
      "needs_background": "light"
     },
     "output_type": "display_data"
    },
    {
     "data": {
      "text/markdown": [
       "Portanto é possível concluir que a maior precisão obtida foi de **0.7775** quando foram utilizadas todas as features originais do dataset, ou seja, foi utilizado o grupo de features: `Length`,  `Diameter`,  `Height`,  `Whole weight`,  `Shucked weight`,  `Viscera weight`,  `Shell weight`."
      ],
      "text/plain": [
       "<IPython.core.display.Markdown object>"
      ]
     },
     "metadata": {},
     "output_type": "display_data"
    }
   ],
   "source": [
    "# Comparando a performance do modelo para cada grupo de features\n",
    "metrics = []\n",
    "for nome, grupo in features_teste.items():\n",
    "    model_frst.fit(X_train[grupo], y_train)\n",
    "    y_pred_frst = model_frst.predict(X_val[grupo])\n",
    "    metrics.append([nome, np.round(precision_score(y_val, y_pred_frst), decimals=4)])\n",
    "    \n",
    "df_metrics = pd.DataFrame(data= metrics, columns = ['features', 'precision'])\n",
    "\n",
    "# Gerando gráfico\n",
    "plt.figure(figsize=(7, 4))\n",
    "ax = sns.barplot(x=\"features\", y=\"precision\", data=df_metrics, palette='mako')\n",
    "\n",
    "for v in ax.patches:\n",
    "    ax.annotate(format(v.get_height()), \n",
    "                   (v.get_x() + v.get_width() / 2., v.get_height()), \n",
    "                   ha = 'center', va = 'center', \n",
    "                   xytext = (0, 9), \n",
    "                   textcoords = 'offset points')\n",
    "    \n",
    "ax.set(xlabel = None, ylabel = 'Precisão', ylim =(0.67, 0.79),\n",
    "       title = 'Precisão do modelo de acordo com o grupo features utilizado')\n",
    "plt.show() \n",
    "\n",
    "# Guardando a precisão do modelo com o melhor conjunto de features (todas)\n",
    "prec_frst_pre = (max(df_metrics['precision']))\n",
    "\n",
    "# Mensagem de análise do gráfico\n",
    "k = features_teste[df_metrics[df_metrics['precision'] == max(df_metrics['precision'])]['features'].values[0]]\n",
    "printmd('Portanto é possível concluir que a maior precisão obtida foi de **'+ str(prec_frst_pre) +\n",
    "       '** quando foram utilizadas ' + # rever - mudar para explicaçãozinha do grupo\n",
    "       features_expl[df_metrics[df_metrics['precision'] == max(df_metrics['precision'])]['features'].values[0] ]+\n",
    "       ', ou seja, foi utilizado o grupo de features: ' + \n",
    "       ' '.join([(('`'+ k[i] +'`, ') if i != (len(k)-1) else ('`'+ k[i] +'`.')) for i in range(len(k))]))"
   ]
  },
  {
   "cell_type": "markdown",
   "id": "2f1c48d8",
   "metadata": {},
   "source": [
    "**Otimização de Hiperparâmetros**"
   ]
  },
  {
   "cell_type": "code",
   "execution_count": 145,
   "id": "e8312051",
   "metadata": {},
   "outputs": [
    {
     "data": {
      "text/plain": [
       "{'n_estimators': [200, 400, 600, 800, 1000, 1200, 1400, 1600, 1800, 2000],\n",
       " 'max_depth': [10, 20, 30, 40, 50, 60, 70, 80, 90, 100, 110],\n",
       " 'min_samples_split': [2, 5, 10],\n",
       " 'min_samples_leaf': [1, 2, 4]}"
      ]
     },
     "metadata": {},
     "output_type": "display_data"
    }
   ],
   "source": [
    "# Hiperparâmetros que serão testados\n",
    "\n",
    "# Número de árvores na random forest\n",
    "n_estimators = [int(x) for x in np.linspace(start = 200, stop = 2000, num = 10)]\n",
    "\n",
    "# Profundidade máxima das árvores\n",
    "max_depth = [int(x) for x in np.linspace(10, 110, num = 11)]\n",
    "\n",
    "# Minimo de amostras para split do nó\n",
    "min_samples_split = [2, 5, 10]\n",
    "\n",
    "# Mínimo de amostras em cada folha\n",
    "min_samples_leaf = [1, 2, 4]\n",
    "\n",
    "\n",
    "# Criamos o grid de escolhas\n",
    "params_grid = {'n_estimators': n_estimators,\n",
    "               'max_depth': max_depth,\n",
    "               'min_samples_split': min_samples_split,\n",
    "               'min_samples_leaf': min_samples_leaf}\n",
    "\n",
    "display(params_grid)"
   ]
  },
  {
   "cell_type": "code",
   "execution_count": 146,
   "id": "9e22e40a",
   "metadata": {},
   "outputs": [],
   "source": [
    "# Aplicando Random Search para encontrar melhores hiperparâmetros\n",
    "random_search = RandomizedSearchCV(estimator = model_frst, \n",
    "                                   param_distributions = params_grid, \n",
    "                                   scoring='precision',\n",
    "                                   n_iter = 30, \n",
    "                                   cv = 10, \n",
    "                                   verbose=10,\n",
    "                                   n_jobs = 4,\n",
    "                                   random_state=42)"
   ]
  },
  {
   "cell_type": "code",
   "execution_count": 147,
   "id": "49c06f61",
   "metadata": {},
   "outputs": [
    {
     "name": "stdout",
     "output_type": "stream",
     "text": [
      "Fitting 10 folds for each of 30 candidates, totalling 300 fits\n",
      "Wall time: 11min 31s\n"
     ]
    },
    {
     "data": {
      "text/plain": [
       "RandomizedSearchCV(cv=10, estimator=RandomForestClassifier(random_state=42),\n",
       "                   n_iter=30, n_jobs=4,\n",
       "                   param_distributions={'max_depth': [10, 20, 30, 40, 50, 60,\n",
       "                                                      70, 80, 90, 100, 110],\n",
       "                                        'min_samples_leaf': [1, 2, 4],\n",
       "                                        'min_samples_split': [2, 5, 10],\n",
       "                                        'n_estimators': [200, 400, 600, 800,\n",
       "                                                         1000, 1200, 1400, 1600,\n",
       "                                                         1800, 2000]},\n",
       "                   random_state=42, scoring='precision', verbose=10)"
      ]
     },
     "execution_count": 147,
     "metadata": {},
     "output_type": "execute_result"
    }
   ],
   "source": [
    "%%time\n",
    "\n",
    "random_search.fit(X_train, y_train)"
   ]
  },
  {
   "cell_type": "code",
   "execution_count": 148,
   "id": "1055a89d",
   "metadata": {},
   "outputs": [
    {
     "data": {
      "text/plain": [
       "{'n_estimators': 2000,\n",
       " 'min_samples_split': 5,\n",
       " 'min_samples_leaf': 2,\n",
       " 'max_depth': 60}"
      ]
     },
     "metadata": {},
     "output_type": "display_data"
    }
   ],
   "source": [
    "# Hiperparâmetros escolhidos pós otimização\n",
    "display(random_search.best_params_)"
   ]
  },
  {
   "cell_type": "code",
   "execution_count": 149,
   "id": "04c7aea4",
   "metadata": {},
   "outputs": [
    {
     "name": "stdout",
     "output_type": "stream",
     "text": [
      "A precisão do modelo inicial (não otimizado) foi de: 0.7775\n",
      "A precisão do modelo final (otimizado) foi de: 0.7792\n",
      "Ganho de: 0.2186 % na precisão após a otimização de hiperparâmetros.\n"
     ]
    }
   ],
   "source": [
    "# Rodando o modelo novamente, com os hiperparâmetros otimizados\n",
    "model_frst_O = RandomForestClassifier(n_estimators = random_search.best_params_['n_estimators'],\n",
    "                                      max_depth = random_search.best_params_['max_depth'] ,\n",
    "                                      min_samples_split = random_search.best_params_['min_samples_split'] ,\n",
    "                                      min_samples_leaf = random_search.best_params_['min_samples_leaf'] ,\n",
    "                                      random_state=42)\n",
    "\n",
    "# Avaliando modelo otimizado\n",
    "model_frst_O.fit(X_train, y_train)\n",
    "y_pred_frst_O = model_frst_O.predict(X_val)\n",
    "prec_frst_pos = np.round(precision_score(y_val, y_pred_frst_O), decimals=4)\n",
    "\n",
    "# Avaliando o impacto da otimização\n",
    "ganho_frst = ((prec_frst_pos/prec_frst_pre - 1) * 100)\n",
    "print(\"A precisão do modelo inicial (não otimizado) foi de:\", prec_frst_pre)\n",
    "print(\"A precisão do modelo final (otimizado) foi de:\", prec_frst_pos)\n",
    "print(\"Ganho de:\", np.round(ganho_frst, decimals = 4), \"% na precisão após a otimização de hiperparâmetros.\")"
   ]
  },
  {
   "cell_type": "markdown",
   "id": "c1ba7bd8",
   "metadata": {},
   "source": [
    "### AdaBoost"
   ]
  },
  {
   "cell_type": "code",
   "execution_count": 150,
   "id": "1ae3a4d4",
   "metadata": {},
   "outputs": [
    {
     "data": {
      "text/plain": [
       "{'algorithm': 'SAMME.R',\n",
       " 'base_estimator': None,\n",
       " 'learning_rate': 1.0,\n",
       " 'n_estimators': 50,\n",
       " 'random_state': 42}"
      ]
     },
     "execution_count": 150,
     "metadata": {},
     "output_type": "execute_result"
    }
   ],
   "source": [
    "# Instanciando o modelo SEM otimização\n",
    "model_adab = AdaBoostClassifier(random_state=42)\n",
    "model_adab.get_params()"
   ]
  },
  {
   "cell_type": "code",
   "execution_count": 151,
   "id": "218eaeb1",
   "metadata": {},
   "outputs": [
    {
     "data": {
      "image/png": "[encoded data removed]",
      "text/plain": [
       "<Figure size 504x288 with 1 Axes>"
      ]
     },
     "metadata": {
      "needs_background": "light"
     },
     "output_type": "display_data"
    },
    {
     "data": {
      "text/markdown": [
       "Portanto é possível concluir que a maior precisão obtida foi de **0.7561** quando foram utilizadas todas as features originais do dataset, ou seja, foi utilizado o grupo de features: `Length`,  `Diameter`,  `Height`,  `Whole weight`,  `Shucked weight`,  `Viscera weight`,  `Shell weight`."
      ],
      "text/plain": [
       "<IPython.core.display.Markdown object>"
      ]
     },
     "metadata": {},
     "output_type": "display_data"
    }
   ],
   "source": [
    "# Comparando a performance do modelo para cada grupo de features\n",
    "metrics = []\n",
    "for nome, grupo in features_teste.items():\n",
    "    model_adab.fit(X_train[grupo], y_train)\n",
    "    y_pred_adab = model_adab.predict(X_val[grupo])\n",
    "    metrics.append([nome, np.round(precision_score(y_val, y_pred_adab), decimals=4)])\n",
    "    \n",
    "df_metrics = pd.DataFrame(data= metrics, columns = ['features', 'precision'])\n",
    "\n",
    "# Gerando gráfico\n",
    "plt.figure(figsize=(7, 4))\n",
    "ax = sns.barplot(x=\"features\", y=\"precision\", data=df_metrics, palette='mako')\n",
    "\n",
    "for v in ax.patches:\n",
    "    ax.annotate(format(v.get_height()), \n",
    "                   (v.get_x() + v.get_width() / 2., v.get_height()), \n",
    "                   ha = 'center', va = 'center', \n",
    "                   xytext = (0, 9), \n",
    "                   textcoords = 'offset points')\n",
    "    \n",
    "ax.set(xlabel = None, ylabel = 'Precisão', ylim =(0.71, 0.77),\n",
    "       title = 'Precisão do modelo de acordo com o grupo features utilizado')\n",
    "plt.show() \n",
    "\n",
    "# Guardando a precisão do modelo com o melhor conjunto de features (todas)\n",
    "prec_adab_pre = (max(df_metrics['precision']))\n",
    "\n",
    "# Mensagem de análise do gráfico\n",
    "k = features_teste[df_metrics[df_metrics['precision'] == max(df_metrics['precision'])]['features'].values[0]]\n",
    "printmd('Portanto é possível concluir que a maior precisão obtida foi de **'+ str(prec_adab_pre) +\n",
    "       '** quando foram utilizadas ' + # rever - mudar para explicaçãozinha do grupo\n",
    "       features_expl[df_metrics[df_metrics['precision'] == max(df_metrics['precision'])]['features'].values[0] ]+\n",
    "       ', ou seja, foi utilizado o grupo de features: ' + \n",
    "       ' '.join([(('`'+ k[i] +'`, ') if i != (len(k)-1) else ('`'+ k[i] +'`.')) for i in range(len(k))]))"
   ]
  },
  {
   "cell_type": "markdown",
   "id": "23cfa0fe",
   "metadata": {},
   "source": [
    "**Otimização de Hiperparâmetros**"
   ]
  },
  {
   "cell_type": "code",
   "execution_count": 152,
   "id": "b7742acf",
   "metadata": {},
   "outputs": [
    {
     "data": {
      "text/plain": [
       "{'learning_rate': [1, 0.1, 0.01],\n",
       " 'n_estimators': [50, 100, 150, 200, 250, 300, 350, 400, 450, 500]}"
      ]
     },
     "metadata": {},
     "output_type": "display_data"
    }
   ],
   "source": [
    "# Hiperparâmetros que serão testados\n",
    "\n",
    "# Learning rate\n",
    "learning_rate = [1, 0.1, 0.01]\n",
    "\n",
    "# Número máximo de árvore de decisão no Random Forest\n",
    "n_estimators = [int(x) for x in range(50,550,50)]\n",
    "\n",
    "# Criamos o grid de escolhas\n",
    "params_grid = {'learning_rate': learning_rate,\n",
    "               'n_estimators': n_estimators}\n",
    "\n",
    "display(params_grid)"
   ]
  },
  {
   "cell_type": "code",
   "execution_count": 153,
   "id": "e20105d4",
   "metadata": {},
   "outputs": [],
   "source": [
    "# Aplicando Random Search para encontrar melhores hiperparâmetros\n",
    "random_search = RandomizedSearchCV(estimator = model_adab, \n",
    "                                   param_distributions = params_grid, \n",
    "                                   scoring='precision',\n",
    "                                   n_iter = 30, \n",
    "                                   cv = 10, \n",
    "                                   verbose=2,\n",
    "                                   n_jobs = 2,\n",
    "                                   random_state=42)"
   ]
  },
  {
   "cell_type": "code",
   "execution_count": 154,
   "id": "5baa5169",
   "metadata": {},
   "outputs": [
    {
     "name": "stdout",
     "output_type": "stream",
     "text": [
      "Fitting 10 folds for each of 30 candidates, totalling 300 fits\n",
      "Wall time: 2min 57s\n"
     ]
    },
    {
     "data": {
      "text/plain": [
       "RandomizedSearchCV(cv=10, estimator=AdaBoostClassifier(random_state=42),\n",
       "                   n_iter=30, n_jobs=2,\n",
       "                   param_distributions={'learning_rate': [1, 0.1, 0.01],\n",
       "                                        'n_estimators': [50, 100, 150, 200, 250,\n",
       "                                                         300, 350, 400, 450,\n",
       "                                                         500]},\n",
       "                   random_state=42, scoring='precision', verbose=2)"
      ]
     },
     "execution_count": 154,
     "metadata": {},
     "output_type": "execute_result"
    }
   ],
   "source": [
    "%%time\n",
    "\n",
    "random_search.fit(X_train[features_teste['Mix']], y_train)"
   ]
  },
  {
   "cell_type": "code",
   "execution_count": 155,
   "id": "dfc3b700",
   "metadata": {},
   "outputs": [
    {
     "data": {
      "text/plain": [
       "{'n_estimators': 500, 'learning_rate': 0.1}"
      ]
     },
     "metadata": {},
     "output_type": "display_data"
    }
   ],
   "source": [
    "# Hiperparâmetros escolhidos pós otimização\n",
    "display(random_search.best_params_)"
   ]
  },
  {
   "cell_type": "code",
   "execution_count": 156,
   "id": "f68e3aa5",
   "metadata": {},
   "outputs": [
    {
     "name": "stdout",
     "output_type": "stream",
     "text": [
      "A precisão do modelo inicial (não otimizado) foi de: 0.7561\n",
      "A precisão do modelo final (otimizado) foi de: 0.7764\n",
      "Ganho de: 2.6848 % na precisão após a otimização de hiperparâmetros.\n"
     ]
    }
   ],
   "source": [
    "# Rodando o modelo novamente, com os hiperparâmetros otimizados\n",
    "model_adab_O = AdaBoostClassifier(n_estimators = random_search.best_params_['n_estimators'],\n",
    "                                  learning_rate = random_search.best_params_['learning_rate'],\n",
    "                                random_state = 42)\n",
    "\n",
    "# Avaliando modelo otimizado\n",
    "model_adab_O.fit(X_train[features_teste['Mix']], y_train)\n",
    "y_pred_adab_O = model_adab_O.predict(X_val[features_teste['Mix']])\n",
    "prec_adab_pos = np.round(precision_score(y_val, y_pred_adab_O), decimals=4)\n",
    "\n",
    "# Avaliando o impacto da otimização\n",
    "ganho_adab = ((prec_adab_pos/prec_adab_pre - 1) * 100)\n",
    "print(\"A precisão do modelo inicial (não otimizado) foi de:\", prec_adab_pre)\n",
    "print(\"A precisão do modelo final (otimizado) foi de:\", prec_adab_pos)\n",
    "print(\"Ganho de:\", np.round(ganho_adab, decimals = 4), \"% na precisão após a otimização de hiperparâmetros.\")"
   ]
  },
  {
   "cell_type": "markdown",
   "id": "a25cd1c9",
   "metadata": {},
   "source": [
    "### Support vector machine (SVM)"
   ]
  },
  {
   "cell_type": "code",
   "execution_count": 157,
   "id": "47dc88f2",
   "metadata": {},
   "outputs": [
    {
     "data": {
      "text/plain": [
       "{'C': 1.0,\n",
       " 'break_ties': False,\n",
       " 'cache_size': 200,\n",
       " 'class_weight': None,\n",
       " 'coef0': 0.0,\n",
       " 'decision_function_shape': 'ovr',\n",
       " 'degree': 3,\n",
       " 'gamma': 'scale',\n",
       " 'kernel': 'rbf',\n",
       " 'max_iter': -1,\n",
       " 'probability': False,\n",
       " 'random_state': 42,\n",
       " 'shrinking': True,\n",
       " 'tol': 0.001,\n",
       " 'verbose': False}"
      ]
     },
     "execution_count": 157,
     "metadata": {},
     "output_type": "execute_result"
    }
   ],
   "source": [
    "# Instanciando o modelo\n",
    "model_kern = SVC(random_state = 42)\n",
    "model_kern.get_params()"
   ]
  },
  {
   "cell_type": "code",
   "execution_count": 158,
   "id": "fe5a47db",
   "metadata": {},
   "outputs": [
    {
     "data": {
      "image/png": "[encoded data removed]",
      "text/plain": [
       "<Figure size 504x288 with 1 Axes>"
      ]
     },
     "metadata": {
      "needs_background": "light"
     },
     "output_type": "display_data"
    },
    {
     "data": {
      "text/markdown": [
       "Portanto é possível concluir que a maior precisão obtida foi de **0.7833** quando foram utilizadas todas as features originais do dataset, ou seja, foi utilizado o grupo de features: `Length`,  `Diameter`,  `Height`,  `Whole weight`,  `Shucked weight`,  `Viscera weight`,  `Shell weight`."
      ],
      "text/plain": [
       "<IPython.core.display.Markdown object>"
      ]
     },
     "metadata": {},
     "output_type": "display_data"
    }
   ],
   "source": [
    "# Comparando a performance do modelo para cada grupo de features\n",
    "metrics = []\n",
    "for nome, grupo in features_teste.items():\n",
    "    model_kern.fit(X_train[grupo], y_train)\n",
    "    y_pred_kern = model_kern.predict(X_val[grupo])\n",
    "    metrics.append([nome, np.round(precision_score(y_val, y_pred_kern), decimals=4)])\n",
    "    \n",
    "df_metrics = pd.DataFrame(data= metrics, columns = ['features', 'precision'])\n",
    "\n",
    "# Gerando gráfico\n",
    "plt.figure(figsize=(7, 4))\n",
    "ax = sns.barplot(x=\"features\", y=\"precision\", data=df_metrics, palette='mako')\n",
    "\n",
    "for v in ax.patches:\n",
    "    ax.annotate(format(v.get_height()), \n",
    "                   (v.get_x() + v.get_width() / 2., v.get_height()), \n",
    "                   ha = 'center', va = 'center', \n",
    "                   xytext = (0, 9), \n",
    "                   textcoords = 'offset points')\n",
    "    \n",
    "ax.set(xlabel = None, ylabel = 'Precisão', ylim =(0.71, 0.795),\n",
    "       title = 'Precisão do modelo de acordo com o grupo features utilizado')\n",
    "plt.show() \n",
    "\n",
    "# Guardando a precisão do modelo com o melhor conjunto de features (todas)\n",
    "prec_kern_pre = (max(df_metrics['precision']))\n",
    "\n",
    "# Mensagem de análise do gráfico\n",
    "k = features_teste[df_metrics[df_metrics['precision'] == max(df_metrics['precision'])]['features'].values[0]]\n",
    "printmd('Portanto é possível concluir que a maior precisão obtida foi de **'+ str(prec_kern_pre) +\n",
    "       '** quando foram utilizadas ' + # rever - mudar para explicaçãozinha do grupo\n",
    "       features_expl[df_metrics[df_metrics['precision'] == max(df_metrics['precision'])]['features'].values[0] ]+\n",
    "       ', ou seja, foi utilizado o grupo de features: ' + \n",
    "       ' '.join([(('`'+ k[i] +'`, ') if i != (len(k)-1) else ('`'+ k[i] +'`.')) for i in range(len(k))]))"
   ]
  },
  {
   "cell_type": "markdown",
   "id": "af82bafc",
   "metadata": {},
   "source": [
    "**Otimização de Hiperparâmetros**"
   ]
  },
  {
   "cell_type": "code",
   "execution_count": 159,
   "id": "7555c1c2",
   "metadata": {},
   "outputs": [
    {
     "data": {
      "text/plain": [
       "{'kernel': ['linear', 'poly', 'rbf', 'sigmoid'], 'C': [0.1, 1, 10, 100]}"
      ]
     },
     "metadata": {},
     "output_type": "display_data"
    }
   ],
   "source": [
    "# Hiperparâmetros que serão testados\n",
    "\n",
    "# Kernel usado\n",
    "kernel = ['linear', 'poly', 'rbf', 'sigmoid']\n",
    "\n",
    "# Parâmetro de regularização\n",
    "C = [0.1,1, 10, 100]\n",
    "\n",
    "# Criamos o grid de escolhas\n",
    "params_grid = {'kernel': kernel,\n",
    "               'C': C}\n",
    "\n",
    "display(params_grid)"
   ]
  },
  {
   "cell_type": "code",
   "execution_count": 160,
   "id": "36fa6f48",
   "metadata": {},
   "outputs": [],
   "source": [
    "# Aplicando Random Search para encontrar melhores hiperparâmetros\n",
    "random_search = RandomizedSearchCV(estimator = model_kern, \n",
    "                                   param_distributions = params_grid, \n",
    "                                   scoring='precision',\n",
    "                                   n_iter = 16, \n",
    "                                   cv = 10, \n",
    "                                   verbose=2,\n",
    "                                   n_jobs = 2,\n",
    "                                   random_state=42)"
   ]
  },
  {
   "cell_type": "code",
   "execution_count": 161,
   "id": "8f001e6f",
   "metadata": {},
   "outputs": [
    {
     "name": "stdout",
     "output_type": "stream",
     "text": [
      "Fitting 10 folds for each of 16 candidates, totalling 160 fits\n",
      "Wall time: 31.5 s\n"
     ]
    },
    {
     "data": {
      "text/plain": [
       "RandomizedSearchCV(cv=10, estimator=SVC(random_state=42), n_iter=16, n_jobs=2,\n",
       "                   param_distributions={'C': [0.1, 1, 10, 100],\n",
       "                                        'kernel': ['linear', 'poly', 'rbf',\n",
       "                                                   'sigmoid']},\n",
       "                   random_state=42, scoring='precision', verbose=2)"
      ]
     },
     "execution_count": 161,
     "metadata": {},
     "output_type": "execute_result"
    }
   ],
   "source": [
    "%%time\n",
    "\n",
    "random_search.fit(X_train, y_train)"
   ]
  },
  {
   "cell_type": "code",
   "execution_count": 162,
   "id": "c1c99dde",
   "metadata": {},
   "outputs": [
    {
     "data": {
      "text/plain": [
       "{'kernel': 'poly', 'C': 0.1}"
      ]
     },
     "metadata": {},
     "output_type": "display_data"
    }
   ],
   "source": [
    "# Hiperparâmetros escolhidos pós otimização\n",
    "display(random_search.best_params_)"
   ]
  },
  {
   "cell_type": "code",
   "execution_count": 163,
   "id": "1963e590",
   "metadata": {},
   "outputs": [
    {
     "name": "stdout",
     "output_type": "stream",
     "text": [
      "A precisão do modelo inicial (não otimizado) foi de: 0.7833\n",
      "A precisão do modelo final (otimizado) foi de: 0.8222\n",
      "Ganho de: 4.9662 % na precisão após a otimização de hiperparâmetros.\n"
     ]
    }
   ],
   "source": [
    "# Rodando o modelo novamente, com os hiperparâmetros otimizados\n",
    "model_kern_O = SVC(kernel= random_search.best_params_['kernel'],\n",
    "                   C = random_search.best_params_['C'],\n",
    "                   random_state = 42)\n",
    "\n",
    "# Avaliando modelo otimizado\n",
    "model_kern_O.fit(X_train, y_train)\n",
    "y_pred_kern_O = model_kern_O.predict(X_val)\n",
    "prec_kern_pos = np.round(precision_score(y_val, y_pred_kern_O), decimals=4)\n",
    "\n",
    "# Avaliando o impacto da otimização\n",
    "ganho_kern = ((prec_kern_pos/prec_kern_pre - 1) * 100)\n",
    "print(\"A precisão do modelo inicial (não otimizado) foi de:\", prec_kern_pre)\n",
    "print(\"A precisão do modelo final (otimizado) foi de:\", prec_kern_pos)\n",
    "print(\"Ganho de:\", np.round(ganho_kern, decimals = 4), \"% na precisão após a otimização de hiperparâmetros.\")"
   ]
  },
  {
   "cell_type": "markdown",
   "id": "a2478a16",
   "metadata": {},
   "source": [
    "## Comparando modelos"
   ]
  },
  {
   "cell_type": "code",
   "execution_count": 164,
   "id": "ba093ea7",
   "metadata": {},
   "outputs": [],
   "source": [
    "metric_comp = [\n",
    "    ['Reg. Log.', 'Sem', prec_rlog_pre],\n",
    "    ['Reg. Log.', 'Com', prec_rlog_pos],\n",
    "    ['Árvore de Decisão', 'Sem', prec_tree_pre],\n",
    "    ['Árvore de Decisão', 'Com', prec_tree_pos],\n",
    "    ['KNN', 'Sem', prec_knn_pre],\n",
    "    ['KNN', 'Com', prec_knn_pos],\n",
    "    ['Naive Bayes', 'Sem', prec_naib_pre],\n",
    "    ['Naive Bayes', 'Com', prec_naib_pos],\n",
    "    ['Random Forest', 'Sem', prec_frst_pre],\n",
    "    ['Random Forest', 'Com', prec_frst_pos],\n",
    "    ['AdaBoost', 'Sem', prec_adab_pre],\n",
    "    ['AdaBoost', 'Com', prec_adab_pos],\n",
    "    ['SVM', 'Sem', prec_kern_pre],\n",
    "    ['SVM', 'Com', prec_kern_pos]     \n",
    "]\n",
    "\n",
    "df_comp =  pd.DataFrame(data = metric_comp, columns = ['Modelo', 'Otimização', 'Precision'])"
   ]
  },
  {
   "cell_type": "code",
   "execution_count": 165,
   "id": "0f0c8a1f",
   "metadata": {},
   "outputs": [
    {
     "data": {
      "image/png": "[encoded data removed]",
      "text/plain": [
       "<Figure size 864x288 with 1 Axes>"
      ]
     },
     "metadata": {
      "needs_background": "light"
     },
     "output_type": "display_data"
    }
   ],
   "source": [
    "# Gerando gráfico\n",
    "plt.figure(figsize=(12, 4))\n",
    "ax = sns.barplot(x=\"Modelo\", y=\"Precision\", hue = 'Otimização', data=df_comp, palette='mako_r')\n",
    "\n",
    "# Label de valor para cada barra\n",
    "for v in ax.patches:\n",
    "    ax.annotate(format(v.get_height()), \n",
    "                   (v.get_x() + v.get_width() / 2., v.get_height()), \n",
    "                   ha = 'center', va = 'center', \n",
    "                   xytext = (0, 9), \n",
    "                   textcoords = 'offset points')\n",
    "      \n",
    "ax.set(xlabel = None, ylabel = 'Precisão', ylim =(0.73, 0.85),\n",
    "       title = 'Performance de cada modelo antes e após a otimização de hiperparâmetros')\n",
    "plt.legend(title = 'Otimização',bbox_to_anchor=(1.11, 1), loc='upper right')\n",
    "plt.show()"
   ]
  },
  {
   "cell_type": "markdown",
   "id": "388778f8",
   "metadata": {},
   "source": [
    "**CONCLUSÃO:** O modelo com a maior precisão (pós otimização de hiperparâmetros) foi o SVM utilizando todas as features. A precisão obtida foi de: 81.91%."
   ]
  },
  {
   "cell_type": "markdown",
   "id": "646a8cfa",
   "metadata": {},
   "source": [
    "## Simulação de performance do modelo final"
   ]
  },
  {
   "cell_type": "markdown",
   "id": "fdbeea25",
   "metadata": {},
   "source": [
    "Por fim, o modelo final escolhido anteriormente foi aplicado nos dados de teste (separados inicialmente para simular a chegada de novos dados em um novo ano de medição): "
   ]
  },
  {
   "cell_type": "code",
   "execution_count": 166,
   "id": "201989f3",
   "metadata": {},
   "outputs": [
    {
     "name": "stdout",
     "output_type": "stream",
     "text": [
      "A precisão do modelo escolhido (com os dados de validação) foi de: 0.8222\n",
      "A precisão do modelo final (utilizando os dados de teste) foi de: 0.7836\n",
      "Variação de -4.6947 % na precisão após a chegada dos novos dados.\n"
     ]
    }
   ],
   "source": [
    "# Treinando o modelo com dados anteriormente usados para treino e validação\n",
    "model_final = SVC(kernel= 'poly', C = 0.1, random_state = 42)\n",
    "model_final.fit(pd.concat([X_train, X_val], ignore_index=True), \n",
    "                pd.concat([y_train, y_val], ignore_index=True))\n",
    "\n",
    "# Aplicando o modelo em dados de teste (inéditos)\n",
    "y_pred_final = model_final.predict(X_test)\n",
    "prec_final = np.round(precision_score(y_test, y_pred_final), decimals=4)\n",
    "\n",
    "print(\"A precisão do modelo escolhido (com os dados de validação) foi de:\", prec_kern_pos)\n",
    "print(\"A precisão do modelo final (utilizando os dados de teste) foi de:\", prec_final)\n",
    "print(\"Variação de\", np.round(((prec_final/prec_kern_pos - 1) * 100), decimals = 4),\n",
    "      \"% na precisão após a chegada dos novos dados.\")"
   ]
  },
  {
   "cell_type": "markdown",
   "id": "96141d31",
   "metadata": {},
   "source": [
    "A degradação do modelo, ou seja, a queda na precisão do modelo ao utilizar os dados de teste, já era esperada e, caso os novos dados fossem referentes de fato às medições de um novo ano, poderia ser explicada em parte pelo efeito \"**Concept Drift**\"\n",
    "> \"Concept drift: means that the statistical properties of the target variable, which the model is trying to predict, change over time in unforeseen ways. This causes problems because the predictions become less accurate as time passes.\" [ [Fonte](https://towardsdatascience.com/why-machine-learning-models-degrade-in-production-d0f2108e9214 \"Towards Data Science: Why Machine Learning Models Degrade In Production\") ] \n",
    "\n",
    "Considerando que a precisão ainda se encontra em um nível bom, o modelo foi considerado efetivo, no entanto, técnicas de manutenção precisariam ser utilizadas (como por exemplo retreinar periodicamente o modelo com todos os dados disponíveis) para evitar uma maior degradação com o tempo."
   ]
  }
 ],
 "metadata": {
  "celltoolbar": "Raw Cell Format",
  "kernelspec": {
   "display_name": "Python 3",
   "language": "python",
   "name": "python3"
  },
  "language_info": {
   "codemirror_mode": {
    "name": "ipython",
    "version": 3
   },
   "file_extension": ".py",
   "mimetype": "text/x-python",
   "name": "python",
   "nbconvert_exporter": "python",
   "pygments_lexer": "ipython3",
   "version": "3.8.8"
  },
  "toc": {
   "base_numbering": 1,
   "nav_menu": {},
   "number_sections": true,
   "sideBar": true,
   "skip_h1_title": true,
   "title_cell": "Table of Contents",
   "title_sidebar": "Contents",
   "toc_cell": true,
   "toc_position": {
    "height": "calc(100% - 180px)",
    "left": "10px",
    "top": "150px",
    "width": "273.188px"
   },
   "toc_section_display": true,
   "toc_window_display": true
  }
 },
 "nbformat": 4,
 "nbformat_minor": 5
}
